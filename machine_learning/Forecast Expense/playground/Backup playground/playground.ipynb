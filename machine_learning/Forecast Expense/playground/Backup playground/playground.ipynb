{
 "cells": [
  {
   "cell_type": "markdown",
   "metadata": {},
   "source": [
    "## Import Libraries"
   ]
  },
  {
   "cell_type": "code",
   "execution_count": 1,
   "metadata": {},
   "outputs": [],
   "source": [
    "import pandas as pd\n",
    "import numpy as np\n",
    "import tensorflow as tf\n",
    "import matplotlib.pyplot as plt\n",
    "import seaborn as sns\n",
    "\n",
    "import joblib\n",
    "import json\n",
    "\n",
    "from sklearn.preprocessing import OneHotEncoder, MinMaxScaler\n",
    "from sklearn.metrics import mean_absolute_error, mean_squared_error"
   ]
  },
  {
   "cell_type": "markdown",
   "metadata": {},
   "source": [
    "### 1. Read dataset"
   ]
  },
  {
   "cell_type": "code",
   "execution_count": null,
   "metadata": {},
   "outputs": [
    {
     "data": {
      "text/html": [
       "<div>\n",
       "<style scoped>\n",
       "    .dataframe tbody tr th:only-of-type {\n",
       "        vertical-align: middle;\n",
       "    }\n",
       "\n",
       "    .dataframe tbody tr th {\n",
       "        vertical-align: top;\n",
       "    }\n",
       "\n",
       "    .dataframe thead th {\n",
       "        text-align: right;\n",
       "    }\n",
       "</style>\n",
       "<table border=\"1\" class=\"dataframe\">\n",
       "  <thead>\n",
       "    <tr style=\"text-align: right;\">\n",
       "      <th></th>\n",
       "      <th>Date</th>\n",
       "      <th>Mode</th>\n",
       "      <th>Category</th>\n",
       "      <th>Subcategory</th>\n",
       "      <th>Note</th>\n",
       "      <th>Amount</th>\n",
       "      <th>Expense</th>\n",
       "      <th>Currency</th>\n",
       "    </tr>\n",
       "  </thead>\n",
       "  <tbody>\n",
       "    <tr>\n",
       "      <th>0</th>\n",
       "      <td>2015-01-01 08:55:49</td>\n",
       "      <td>Cash</td>\n",
       "      <td>Food</td>\n",
       "      <td>Milk</td>\n",
       "      <td>tea</td>\n",
       "      <td>10.0</td>\n",
       "      <td>Expense</td>\n",
       "      <td>INR</td>\n",
       "    </tr>\n",
       "    <tr>\n",
       "      <th>1</th>\n",
       "      <td>2015-01-01 09:12:53</td>\n",
       "      <td>Cash</td>\n",
       "      <td>Transportation</td>\n",
       "      <td>auto</td>\n",
       "      <td>share auto - Place H to Place T base</td>\n",
       "      <td>20.0</td>\n",
       "      <td>Expense</td>\n",
       "      <td>INR</td>\n",
       "    </tr>\n",
       "    <tr>\n",
       "      <th>2</th>\n",
       "      <td>2015-01-01 09:29:14</td>\n",
       "      <td>Cash</td>\n",
       "      <td>Transportation</td>\n",
       "      <td>auto</td>\n",
       "      <td>share jeep - Place T to brc</td>\n",
       "      <td>60.0</td>\n",
       "      <td>Expense</td>\n",
       "      <td>INR</td>\n",
       "    </tr>\n",
       "    <tr>\n",
       "      <th>3</th>\n",
       "      <td>2015-01-01 09:48:16</td>\n",
       "      <td>Credit Card</td>\n",
       "      <td>Food</td>\n",
       "      <td>Milk</td>\n",
       "      <td>bendys chicken biryani</td>\n",
       "      <td>400.0</td>\n",
       "      <td>Expense</td>\n",
       "      <td>INR</td>\n",
       "    </tr>\n",
       "    <tr>\n",
       "      <th>4</th>\n",
       "      <td>2015-01-01 09:57:15</td>\n",
       "      <td>Cash</td>\n",
       "      <td>Transportation</td>\n",
       "      <td>auto</td>\n",
       "      <td>ropeway Place T to and fro</td>\n",
       "      <td>142.0</td>\n",
       "      <td>Expense</td>\n",
       "      <td>INR</td>\n",
       "    </tr>\n",
       "  </tbody>\n",
       "</table>\n",
       "</div>"
      ],
      "text/plain": [
       "                  Date         Mode        Category Subcategory  \\\n",
       "0  2015-01-01 08:55:49         Cash            Food        Milk   \n",
       "1  2015-01-01 09:12:53         Cash  Transportation        auto   \n",
       "2  2015-01-01 09:29:14         Cash  Transportation        auto   \n",
       "3  2015-01-01 09:48:16  Credit Card            Food        Milk   \n",
       "4  2015-01-01 09:57:15         Cash  Transportation        auto   \n",
       "\n",
       "                                   Note  Amount  Expense Currency  \n",
       "0                                   tea    10.0  Expense      INR  \n",
       "1  share auto - Place H to Place T base    20.0  Expense      INR  \n",
       "2           share jeep - Place T to brc    60.0  Expense      INR  \n",
       "3                bendys chicken biryani   400.0  Expense      INR  \n",
       "4            ropeway Place T to and fro   142.0  Expense      INR  "
      ]
     },
     "execution_count": 2,
     "metadata": {},
     "output_type": "execute_result"
    }
   ],
   "source": [
    "df = pd.read_csv('dataClean.csv')\n",
    "df.head()"
   ]
  },
  {
   "cell_type": "markdown",
   "metadata": {},
   "source": [
    "### 2. Dtype overview"
   ]
  },
  {
   "cell_type": "code",
   "execution_count": 3,
   "metadata": {},
   "outputs": [
    {
     "data": {
      "text/plain": [
       "(2302, 8)"
      ]
     },
     "execution_count": 3,
     "metadata": {},
     "output_type": "execute_result"
    }
   ],
   "source": [
    "df.shape"
   ]
  },
  {
   "cell_type": "markdown",
   "metadata": {},
   "source": [
    "Contains 2302 rows and 9 columns"
   ]
  },
  {
   "cell_type": "code",
   "execution_count": 4,
   "metadata": {},
   "outputs": [
    {
     "name": "stdout",
     "output_type": "stream",
     "text": [
      "<class 'pandas.core.frame.DataFrame'>\n",
      "RangeIndex: 2302 entries, 0 to 2301\n",
      "Data columns (total 8 columns):\n",
      " #   Column       Non-Null Count  Dtype  \n",
      "---  ------       --------------  -----  \n",
      " 0   Date         2302 non-null   object \n",
      " 1   Mode         2302 non-null   object \n",
      " 2   Category     2302 non-null   object \n",
      " 3   Subcategory  2302 non-null   object \n",
      " 4   Note         2302 non-null   object \n",
      " 5   Amount       2302 non-null   float64\n",
      " 6   Expense      2302 non-null   object \n",
      " 7   Currency     2302 non-null   object \n",
      "dtypes: float64(1), object(7)\n",
      "memory usage: 144.0+ KB\n"
     ]
    }
   ],
   "source": [
    "df.info()"
   ]
  },
  {
   "cell_type": "markdown",
   "metadata": {},
   "source": [
    "We need to convert `Date` dtype into datetime"
   ]
  },
  {
   "cell_type": "code",
   "execution_count": 5,
   "metadata": {},
   "outputs": [
    {
     "data": {
      "text/plain": [
       "Category\n",
       "Food              1063\n",
       "Transportation     338\n",
       "Other              216\n",
       "Household          182\n",
       "Utilities          143\n",
       "Shopping           108\n",
       "Investment         103\n",
       "Health              94\n",
       "Entertainment       33\n",
       "Education           22\n",
       "Name: count, dtype: int64"
      ]
     },
     "execution_count": 5,
     "metadata": {},
     "output_type": "execute_result"
    }
   ],
   "source": [
    "df['Category'].value_counts()"
   ]
  },
  {
   "cell_type": "markdown",
   "metadata": {},
   "source": [
    "## Preprocessing"
   ]
  },
  {
   "cell_type": "markdown",
   "metadata": {},
   "source": [
    "### 1. Change `Date` datatype to timestamp"
   ]
  },
  {
   "cell_type": "code",
   "execution_count": 6,
   "metadata": {},
   "outputs": [],
   "source": [
    "df['Date'] = pd.to_datetime(df['Date'])\n"
   ]
  },
  {
   "cell_type": "code",
   "execution_count": 7,
   "metadata": {},
   "outputs": [
    {
     "name": "stdout",
     "output_type": "stream",
     "text": [
      "<class 'pandas.core.frame.DataFrame'>\n",
      "RangeIndex: 2302 entries, 0 to 2301\n",
      "Data columns (total 8 columns):\n",
      " #   Column       Non-Null Count  Dtype         \n",
      "---  ------       --------------  -----         \n",
      " 0   Date         2302 non-null   datetime64[ns]\n",
      " 1   Mode         2302 non-null   object        \n",
      " 2   Category     2302 non-null   object        \n",
      " 3   Subcategory  2302 non-null   object        \n",
      " 4   Note         2302 non-null   object        \n",
      " 5   Amount       2302 non-null   float64       \n",
      " 6   Expense      2302 non-null   object        \n",
      " 7   Currency     2302 non-null   object        \n",
      "dtypes: datetime64[ns](1), float64(1), object(6)\n",
      "memory usage: 144.0+ KB\n"
     ]
    }
   ],
   "source": [
    "df.info()"
   ]
  },
  {
   "cell_type": "markdown",
   "metadata": {},
   "source": [
    "### 2. Check missing value and duplicate"
   ]
  },
  {
   "cell_type": "code",
   "execution_count": 8,
   "metadata": {},
   "outputs": [
    {
     "name": "stdout",
     "output_type": "stream",
     "text": [
      "Missing value(s): \n",
      "Date           0\n",
      "Mode           0\n",
      "Category       0\n",
      "Subcategory    0\n",
      "Note           0\n",
      "Amount         0\n",
      "Expense        0\n",
      "Currency       0\n",
      "dtype: int64\n",
      "=========================\n",
      "Duplicate value(s):  0\n"
     ]
    }
   ],
   "source": [
    "print('Missing value(s): ')  \n",
    "print(df.isnull().sum())\n",
    "print('=====' * 5)\n",
    "print(f'Duplicate value(s): ', df.duplicated().sum())"
   ]
  },
  {
   "cell_type": "markdown",
   "metadata": {},
   "source": [
    "There are no missing values and duplication"
   ]
  },
  {
   "cell_type": "markdown",
   "metadata": {},
   "source": [
    "### 3. Drop columns `Note` and `Currency`"
   ]
  },
  {
   "cell_type": "code",
   "execution_count": 9,
   "metadata": {},
   "outputs": [],
   "source": [
    "# Drop irrelevant columns\n",
    "df = df.drop(columns=['Note', 'Currency'])"
   ]
  },
  {
   "cell_type": "markdown",
   "metadata": {},
   "source": [
    "### 4. Aggregate `Date` into `year`, `month`, `day`, and `dayofweek`"
   ]
  },
  {
   "cell_type": "code",
   "execution_count": 10,
   "metadata": {},
   "outputs": [],
   "source": [
    "# Break the 'Date' column into year, month, day, day of week features\n",
    "df['year'] = df['Date'].dt.year\n",
    "df['month'] = df['Date'].dt.month\n",
    "df['day'] = df['Date'].dt.day\n",
    "df['dayofweek'] = df['Date'].dt.dayofweek  #(0 = Monday, 6 = Sunday)\n",
    "\n",
    "# Drop 'Date' column after breaking it into year, month, day, day of week features\n",
    "df = df.drop(columns=['Date'])"
   ]
  },
  {
   "cell_type": "markdown",
   "metadata": {},
   "source": [
    "### 5. Convert INR into IDR"
   ]
  },
  {
   "cell_type": "markdown",
   "metadata": {},
   "source": [
    "We just convert it based on nowdays currency rate\n",
    "\n",
    "1 INR = 188.8 Rupiah (per 26 Nov 2024)\n",
    "\n",
    "Then, we rounded to **200 Rupiah**\n",
    "\n",
    "Source: **[Google Finance](https://www.google.com/finance/quote/INR-IDR?sa=X&ved=2ahUKEwj_gK6vrfmJAxUC3jgGHRSEHNAQmY0JegQIDRAu)**"
   ]
  },
  {
   "cell_type": "code",
   "execution_count": 11,
   "metadata": {},
   "outputs": [
    {
     "data": {
      "text/plain": [
       "0     10.0\n",
       "1     20.0\n",
       "2     60.0\n",
       "3    400.0\n",
       "4    142.0\n",
       "Name: Amount, dtype: float64"
      ]
     },
     "execution_count": 11,
     "metadata": {},
     "output_type": "execute_result"
    }
   ],
   "source": [
    "df['Amount'].head()"
   ]
  },
  {
   "cell_type": "code",
   "execution_count": 12,
   "metadata": {},
   "outputs": [],
   "source": [
    "# Convert INR to IDR\n",
    "df['Amount'] = df['Amount'] * 200"
   ]
  },
  {
   "cell_type": "code",
   "execution_count": 13,
   "metadata": {},
   "outputs": [
    {
     "data": {
      "text/plain": [
       "0     2000.0\n",
       "1     4000.0\n",
       "2    12000.0\n",
       "3    80000.0\n",
       "4    28400.0\n",
       "Name: Amount, dtype: float64"
      ]
     },
     "execution_count": 13,
     "metadata": {},
     "output_type": "execute_result"
    }
   ],
   "source": [
    "df['Amount'].head()"
   ]
  },
  {
   "cell_type": "code",
   "execution_count": 14,
   "metadata": {},
   "outputs": [
    {
     "data": {
      "text/plain": [
       "count    2.302000e+03\n",
       "mean     1.087293e+05\n",
       "std      4.790565e+05\n",
       "min      4.000000e+02\n",
       "25%      6.000000e+03\n",
       "50%      1.600000e+04\n",
       "75%      5.895000e+04\n",
       "max      1.000000e+07\n",
       "Name: Amount, dtype: float64"
      ]
     },
     "execution_count": 14,
     "metadata": {},
     "output_type": "execute_result"
    }
   ],
   "source": [
    "df['Amount'].describe()"
   ]
  },
  {
   "cell_type": "markdown",
   "metadata": {},
   "source": [
    "### 6. Change `Expense` column into numerical column"
   ]
  },
  {
   "cell_type": "markdown",
   "metadata": {},
   "source": [
    "Because the value of the `Expense` just a string 'Expense'. Then it will be converted to numerical column"
   ]
  },
  {
   "cell_type": "code",
   "execution_count": 15,
   "metadata": {},
   "outputs": [],
   "source": [
    "# Change all the values into 1\n",
    "df['Expense'] = 1"
   ]
  },
  {
   "cell_type": "markdown",
   "metadata": {},
   "source": [
    "### 7. Check distribution for outliers"
   ]
  },
  {
   "cell_type": "code",
   "execution_count": 16,
   "metadata": {},
   "outputs": [
    {
     "data": {
      "image/png": "[encoded data removed]",
      "text/plain": [
       "<Figure size 1200x600 with 1 Axes>"
      ]
     },
     "metadata": {},
     "output_type": "display_data"
    },
    {
     "data": {
      "image/png": "[encoded data removed]",
      "text/plain": [
       "<Figure size 1000x500 with 1 Axes>"
      ]
     },
     "metadata": {},
     "output_type": "display_data"
    },
    {
     "name": "stdout",
     "output_type": "stream",
     "text": [
      "Total Outliers (Z-Score > 3): 30\n",
      "Index Outliers: [  63   69  144  212  335  337  338  339  340  342  344  345  349  350\n",
      "  353  356  442  537  563  598  742  795 1130 1166 1440 1491 1559 1582\n",
      " 1814 1865]\n",
      "Outliers Value: [ 2000000.  2000000.  2000000.  1605800.  2000000.  2000000.  2000000.\n",
      "  2000000.  2000000.  2000000.  2000000.  2000000.  2000000.  2000000.\n",
      "  8000000.  2000000.  2257200.  2257200.  2257200.  4100000.  1700000.\n",
      "  1765000.  4000000.  8600000.  4540000.  5680000. 10000000.  8600000.\n",
      "  4300000.  2610000.]\n",
      "\n",
      "Statisric descriptive 'Amount':\n",
      "count    2.302000e+03\n",
      "mean     1.087293e+05\n",
      "std      4.790565e+05\n",
      "min      4.000000e+02\n",
      "25%      6.000000e+03\n",
      "50%      1.600000e+04\n",
      "75%      5.895000e+04\n",
      "max      1.000000e+07\n",
      "Name: Amount, dtype: float64\n"
     ]
    }
   ],
   "source": [
    "from scipy.stats import zscore\n",
    "\n",
    "# Distribution 'Amount'\n",
    "plt.figure(figsize=(12, 6))\n",
    "sns.histplot(df['Amount'], kde=True, bins=30, color='blue')\n",
    "plt.title(\"'Amount' Distribution\")\n",
    "plt.xlabel(\"Amount\")\n",
    "plt.ylabel(\"Frequences\")\n",
    "plt.show()\n",
    "\n",
    "# Boxplot to detect outliers\n",
    "plt.figure(figsize=(10, 5))\n",
    "sns.boxplot(x=df['Amount'], color='orange')\n",
    "plt.title(\"Boxplot 'Amount'\")\n",
    "plt.xlabel(\"Amount\")\n",
    "plt.show()\n",
    "\n",
    "# Detect outliers with Z-Score\n",
    "z_scores = zscore(df['Amount'])\n",
    "outliers = np.where(np.abs(z_scores) > 3)[0]  # Threshold = 3\n",
    "print(f\"Total Outliers (Z-Score > 3): {len(outliers)}\")\n",
    "\n",
    "# Index and its value of outliers\n",
    "print(\"Index Outliers:\", outliers)\n",
    "print(\"Outliers Value:\", df['Amount'].iloc[outliers].values)\n",
    "\n",
    "# Describe 'Amount'\n",
    "print(\"\\nStatisric descriptive 'Amount':\")\n",
    "print(df['Amount'].describe())"
   ]
  },
  {
   "cell_type": "markdown",
   "metadata": {},
   "source": [
    "## Encoding Column"
   ]
  },
  {
   "cell_type": "markdown",
   "metadata": {},
   "source": [
    "Encode `Mode`, `Category`, and `Subcategory` (convert categorical columns into numerical)"
   ]
  },
  {
   "cell_type": "code",
   "execution_count": 17,
   "metadata": {},
   "outputs": [
    {
     "data": {
      "text/html": [
       "<div>\n",
       "<style scoped>\n",
       "    .dataframe tbody tr th:only-of-type {\n",
       "        vertical-align: middle;\n",
       "    }\n",
       "\n",
       "    .dataframe tbody tr th {\n",
       "        vertical-align: top;\n",
       "    }\n",
       "\n",
       "    .dataframe thead th {\n",
       "        text-align: right;\n",
       "    }\n",
       "</style>\n",
       "<table border=\"1\" class=\"dataframe\">\n",
       "  <thead>\n",
       "    <tr style=\"text-align: right;\">\n",
       "      <th></th>\n",
       "      <th>Amount</th>\n",
       "      <th>Expense</th>\n",
       "      <th>year</th>\n",
       "      <th>month</th>\n",
       "      <th>day</th>\n",
       "      <th>dayofweek</th>\n",
       "      <th>Mode_CUB - online payment</th>\n",
       "      <th>Mode_Cash</th>\n",
       "      <th>Mode_Credit Card</th>\n",
       "      <th>Mode_Debit Card</th>\n",
       "      <th>...</th>\n",
       "      <th>Subcategory_gift</th>\n",
       "      <th>Subcategory_grooming</th>\n",
       "      <th>Subcategory_home decor</th>\n",
       "      <th>Subcategory_makeup</th>\n",
       "      <th>Subcategory_medicine</th>\n",
       "      <th>Subcategory_misc</th>\n",
       "      <th>Subcategory_ropeway</th>\n",
       "      <th>Subcategory_snacks</th>\n",
       "      <th>Subcategory_train</th>\n",
       "      <th>Subcategory_vegetables</th>\n",
       "    </tr>\n",
       "  </thead>\n",
       "  <tbody>\n",
       "    <tr>\n",
       "      <th>0</th>\n",
       "      <td>2000.0</td>\n",
       "      <td>1</td>\n",
       "      <td>2015</td>\n",
       "      <td>1</td>\n",
       "      <td>1</td>\n",
       "      <td>3</td>\n",
       "      <td>0.0</td>\n",
       "      <td>1.0</td>\n",
       "      <td>0.0</td>\n",
       "      <td>0.0</td>\n",
       "      <td>...</td>\n",
       "      <td>0.0</td>\n",
       "      <td>0.0</td>\n",
       "      <td>0.0</td>\n",
       "      <td>0.0</td>\n",
       "      <td>0.0</td>\n",
       "      <td>0.0</td>\n",
       "      <td>0.0</td>\n",
       "      <td>0.0</td>\n",
       "      <td>0.0</td>\n",
       "      <td>0.0</td>\n",
       "    </tr>\n",
       "    <tr>\n",
       "      <th>1</th>\n",
       "      <td>4000.0</td>\n",
       "      <td>1</td>\n",
       "      <td>2015</td>\n",
       "      <td>1</td>\n",
       "      <td>1</td>\n",
       "      <td>3</td>\n",
       "      <td>0.0</td>\n",
       "      <td>1.0</td>\n",
       "      <td>0.0</td>\n",
       "      <td>0.0</td>\n",
       "      <td>...</td>\n",
       "      <td>0.0</td>\n",
       "      <td>0.0</td>\n",
       "      <td>0.0</td>\n",
       "      <td>0.0</td>\n",
       "      <td>0.0</td>\n",
       "      <td>0.0</td>\n",
       "      <td>0.0</td>\n",
       "      <td>0.0</td>\n",
       "      <td>0.0</td>\n",
       "      <td>0.0</td>\n",
       "    </tr>\n",
       "    <tr>\n",
       "      <th>2</th>\n",
       "      <td>12000.0</td>\n",
       "      <td>1</td>\n",
       "      <td>2015</td>\n",
       "      <td>1</td>\n",
       "      <td>1</td>\n",
       "      <td>3</td>\n",
       "      <td>0.0</td>\n",
       "      <td>1.0</td>\n",
       "      <td>0.0</td>\n",
       "      <td>0.0</td>\n",
       "      <td>...</td>\n",
       "      <td>0.0</td>\n",
       "      <td>0.0</td>\n",
       "      <td>0.0</td>\n",
       "      <td>0.0</td>\n",
       "      <td>0.0</td>\n",
       "      <td>0.0</td>\n",
       "      <td>0.0</td>\n",
       "      <td>0.0</td>\n",
       "      <td>0.0</td>\n",
       "      <td>0.0</td>\n",
       "    </tr>\n",
       "    <tr>\n",
       "      <th>3</th>\n",
       "      <td>80000.0</td>\n",
       "      <td>1</td>\n",
       "      <td>2015</td>\n",
       "      <td>1</td>\n",
       "      <td>1</td>\n",
       "      <td>3</td>\n",
       "      <td>0.0</td>\n",
       "      <td>0.0</td>\n",
       "      <td>1.0</td>\n",
       "      <td>0.0</td>\n",
       "      <td>...</td>\n",
       "      <td>0.0</td>\n",
       "      <td>0.0</td>\n",
       "      <td>0.0</td>\n",
       "      <td>0.0</td>\n",
       "      <td>0.0</td>\n",
       "      <td>0.0</td>\n",
       "      <td>0.0</td>\n",
       "      <td>0.0</td>\n",
       "      <td>0.0</td>\n",
       "      <td>0.0</td>\n",
       "    </tr>\n",
       "    <tr>\n",
       "      <th>4</th>\n",
       "      <td>28400.0</td>\n",
       "      <td>1</td>\n",
       "      <td>2015</td>\n",
       "      <td>1</td>\n",
       "      <td>1</td>\n",
       "      <td>3</td>\n",
       "      <td>0.0</td>\n",
       "      <td>1.0</td>\n",
       "      <td>0.0</td>\n",
       "      <td>0.0</td>\n",
       "      <td>...</td>\n",
       "      <td>0.0</td>\n",
       "      <td>0.0</td>\n",
       "      <td>0.0</td>\n",
       "      <td>0.0</td>\n",
       "      <td>0.0</td>\n",
       "      <td>0.0</td>\n",
       "      <td>0.0</td>\n",
       "      <td>0.0</td>\n",
       "      <td>0.0</td>\n",
       "      <td>0.0</td>\n",
       "    </tr>\n",
       "  </tbody>\n",
       "</table>\n",
       "<p>5 rows × 133 columns</p>\n",
       "</div>"
      ],
      "text/plain": [
       "    Amount  Expense  year  month  day  dayofweek  Mode_CUB - online payment  \\\n",
       "0   2000.0        1  2015      1    1          3                        0.0   \n",
       "1   4000.0        1  2015      1    1          3                        0.0   \n",
       "2  12000.0        1  2015      1    1          3                        0.0   \n",
       "3  80000.0        1  2015      1    1          3                        0.0   \n",
       "4  28400.0        1  2015      1    1          3                        0.0   \n",
       "\n",
       "   Mode_Cash  Mode_Credit Card  Mode_Debit Card  ...  Subcategory_gift  \\\n",
       "0        1.0               0.0              0.0  ...               0.0   \n",
       "1        1.0               0.0              0.0  ...               0.0   \n",
       "2        1.0               0.0              0.0  ...               0.0   \n",
       "3        0.0               1.0              0.0  ...               0.0   \n",
       "4        1.0               0.0              0.0  ...               0.0   \n",
       "\n",
       "   Subcategory_grooming  Subcategory_home decor  Subcategory_makeup  \\\n",
       "0                   0.0                     0.0                 0.0   \n",
       "1                   0.0                     0.0                 0.0   \n",
       "2                   0.0                     0.0                 0.0   \n",
       "3                   0.0                     0.0                 0.0   \n",
       "4                   0.0                     0.0                 0.0   \n",
       "\n",
       "   Subcategory_medicine  Subcategory_misc  Subcategory_ropeway  \\\n",
       "0                   0.0               0.0                  0.0   \n",
       "1                   0.0               0.0                  0.0   \n",
       "2                   0.0               0.0                  0.0   \n",
       "3                   0.0               0.0                  0.0   \n",
       "4                   0.0               0.0                  0.0   \n",
       "\n",
       "   Subcategory_snacks  Subcategory_train  Subcategory_vegetables  \n",
       "0                 0.0                0.0                     0.0  \n",
       "1                 0.0                0.0                     0.0  \n",
       "2                 0.0                0.0                     0.0  \n",
       "3                 0.0                0.0                     0.0  \n",
       "4                 0.0                0.0                     0.0  \n",
       "\n",
       "[5 rows x 133 columns]"
      ]
     },
     "execution_count": 17,
     "metadata": {},
     "output_type": "execute_result"
    }
   ],
   "source": [
    "import joblib\n",
    "\n",
    "# Encoding 'Mode'\n",
    "encoder_mode = OneHotEncoder(handle_unknown='ignore', sparse_output=False)\n",
    "encoded_mode = encoder_mode.fit_transform(df[['Mode']])\n",
    "mode_columns = encoder_mode.get_feature_names_out(['Mode'])\n",
    "\n",
    "# Encoding 'Category'\n",
    "encoder_category = OneHotEncoder(sparse_output=False)\n",
    "encoded_category = encoder_category.fit_transform(df[['Category']])\n",
    "category_columns = encoder_category.get_feature_names_out(['Category'])\n",
    "\n",
    "# Encoding 'Subcategory'\n",
    "encoder_subcategory = OneHotEncoder(handle_unknown='ignore', sparse_output=False)\n",
    "encoded_subcategory = encoder_subcategory.fit_transform(df[['Subcategory']])\n",
    "subcategory_columns = encoder_subcategory.get_feature_names_out(['Subcategory'])\n",
    "\n",
    "# Concatenate all encoded results into one df\n",
    "encoded_df = pd.DataFrame(\n",
    "    np.hstack([encoded_mode, encoded_category, encoded_subcategory]),\n",
    "    columns=np.concatenate([mode_columns, category_columns, subcategory_columns])\n",
    ")\n",
    "\n",
    "# Concatenate the encoded results with original df\n",
    "df = pd.concat([df.reset_index(drop=True), encoded_df.reset_index(drop=True)], axis=1)\n",
    "\n",
    "# Drop original encoded columns\n",
    "df = df.drop(['Mode', 'Category', 'Subcategory'], axis=1)\n",
    "\n",
    "# Save encoders\n",
    "joblib.dump(encoder_mode, 'encoder_mode.pkl')\n",
    "joblib.dump(encoder_category, 'encoder_category.pkl')\n",
    "joblib.dump(encoder_subcategory, 'encoder_subcategory.pkl')\n",
    "\n",
    "# Save columns name for reference\n",
    "joblib.dump({\n",
    "    'mode_columns': mode_columns,\n",
    "    'category_columns': category_columns,\n",
    "    'subcategory_columns': subcategory_columns\n",
    "}, 'encoder_columns.pkl')\n",
    "\n",
    "# Show encoded results\n",
    "df.head()"
   ]
  },
  {
   "cell_type": "code",
   "execution_count": 18,
   "metadata": {},
   "outputs": [
    {
     "name": "stdout",
     "output_type": "stream",
     "text": [
      "<class 'pandas.core.frame.DataFrame'>\n",
      "RangeIndex: 2302 entries, 0 to 2301\n",
      "Columns: 133 entries, Amount to Subcategory_vegetables\n",
      "dtypes: float64(128), int32(4), int64(1)\n",
      "memory usage: 2.3 MB\n"
     ]
    }
   ],
   "source": [
    "df.info()"
   ]
  },
  {
   "cell_type": "markdown",
   "metadata": {},
   "source": [
    "## Normalization"
   ]
  },
  {
   "cell_type": "markdown",
   "metadata": {},
   "source": [
    "### 1. Normalize `Amount`"
   ]
  },
  {
   "cell_type": "code",
   "execution_count": 19,
   "metadata": {},
   "outputs": [
    {
     "data": {
      "text/plain": [
       "['scaler.pkl']"
      ]
     },
     "execution_count": 19,
     "metadata": {},
     "output_type": "execute_result"
    }
   ],
   "source": [
    "# Normalize data\n",
    "scaler = MinMaxScaler()\n",
    "df['Amount'] = scaler.fit_transform(df[['Amount']])\n",
    "\n",
    "# Save scaler\n",
    "joblib.dump(scaler, 'scaler.pkl')"
   ]
  },
  {
   "cell_type": "markdown",
   "metadata": {},
   "source": [
    "Only normalize `Amount` and not `Expense` column because `Expense`'s value already 1"
   ]
  },
  {
   "cell_type": "markdown",
   "metadata": {},
   "source": [
    "### 2. Sorting data based on the time"
   ]
  },
  {
   "cell_type": "code",
   "execution_count": 20,
   "metadata": {},
   "outputs": [
    {
     "data": {
      "text/html": [
       "<div>\n",
       "<style scoped>\n",
       "    .dataframe tbody tr th:only-of-type {\n",
       "        vertical-align: middle;\n",
       "    }\n",
       "\n",
       "    .dataframe tbody tr th {\n",
       "        vertical-align: top;\n",
       "    }\n",
       "\n",
       "    .dataframe thead th {\n",
       "        text-align: right;\n",
       "    }\n",
       "</style>\n",
       "<table border=\"1\" class=\"dataframe\">\n",
       "  <thead>\n",
       "    <tr style=\"text-align: right;\">\n",
       "      <th></th>\n",
       "      <th>Amount</th>\n",
       "      <th>Expense</th>\n",
       "      <th>year</th>\n",
       "      <th>month</th>\n",
       "      <th>day</th>\n",
       "      <th>dayofweek</th>\n",
       "      <th>Mode_CUB - online payment</th>\n",
       "      <th>Mode_Cash</th>\n",
       "      <th>Mode_Credit Card</th>\n",
       "      <th>Mode_Debit Card</th>\n",
       "      <th>...</th>\n",
       "      <th>Subcategory_gift</th>\n",
       "      <th>Subcategory_grooming</th>\n",
       "      <th>Subcategory_home decor</th>\n",
       "      <th>Subcategory_makeup</th>\n",
       "      <th>Subcategory_medicine</th>\n",
       "      <th>Subcategory_misc</th>\n",
       "      <th>Subcategory_ropeway</th>\n",
       "      <th>Subcategory_snacks</th>\n",
       "      <th>Subcategory_train</th>\n",
       "      <th>Subcategory_vegetables</th>\n",
       "    </tr>\n",
       "  </thead>\n",
       "  <tbody>\n",
       "    <tr>\n",
       "      <th>0</th>\n",
       "      <td>0.00016</td>\n",
       "      <td>1</td>\n",
       "      <td>2015</td>\n",
       "      <td>1</td>\n",
       "      <td>1</td>\n",
       "      <td>3</td>\n",
       "      <td>0.0</td>\n",
       "      <td>1.0</td>\n",
       "      <td>0.0</td>\n",
       "      <td>0.0</td>\n",
       "      <td>...</td>\n",
       "      <td>0.0</td>\n",
       "      <td>0.0</td>\n",
       "      <td>0.0</td>\n",
       "      <td>0.0</td>\n",
       "      <td>0.0</td>\n",
       "      <td>0.0</td>\n",
       "      <td>0.0</td>\n",
       "      <td>0.0</td>\n",
       "      <td>0.0</td>\n",
       "      <td>0.0</td>\n",
       "    </tr>\n",
       "    <tr>\n",
       "      <th>1</th>\n",
       "      <td>0.00036</td>\n",
       "      <td>1</td>\n",
       "      <td>2015</td>\n",
       "      <td>1</td>\n",
       "      <td>1</td>\n",
       "      <td>3</td>\n",
       "      <td>0.0</td>\n",
       "      <td>1.0</td>\n",
       "      <td>0.0</td>\n",
       "      <td>0.0</td>\n",
       "      <td>...</td>\n",
       "      <td>0.0</td>\n",
       "      <td>0.0</td>\n",
       "      <td>0.0</td>\n",
       "      <td>0.0</td>\n",
       "      <td>0.0</td>\n",
       "      <td>0.0</td>\n",
       "      <td>0.0</td>\n",
       "      <td>0.0</td>\n",
       "      <td>0.0</td>\n",
       "      <td>0.0</td>\n",
       "    </tr>\n",
       "    <tr>\n",
       "      <th>2</th>\n",
       "      <td>0.00116</td>\n",
       "      <td>1</td>\n",
       "      <td>2015</td>\n",
       "      <td>1</td>\n",
       "      <td>1</td>\n",
       "      <td>3</td>\n",
       "      <td>0.0</td>\n",
       "      <td>1.0</td>\n",
       "      <td>0.0</td>\n",
       "      <td>0.0</td>\n",
       "      <td>...</td>\n",
       "      <td>0.0</td>\n",
       "      <td>0.0</td>\n",
       "      <td>0.0</td>\n",
       "      <td>0.0</td>\n",
       "      <td>0.0</td>\n",
       "      <td>0.0</td>\n",
       "      <td>0.0</td>\n",
       "      <td>0.0</td>\n",
       "      <td>0.0</td>\n",
       "      <td>0.0</td>\n",
       "    </tr>\n",
       "    <tr>\n",
       "      <th>3</th>\n",
       "      <td>0.00796</td>\n",
       "      <td>1</td>\n",
       "      <td>2015</td>\n",
       "      <td>1</td>\n",
       "      <td>1</td>\n",
       "      <td>3</td>\n",
       "      <td>0.0</td>\n",
       "      <td>0.0</td>\n",
       "      <td>1.0</td>\n",
       "      <td>0.0</td>\n",
       "      <td>...</td>\n",
       "      <td>0.0</td>\n",
       "      <td>0.0</td>\n",
       "      <td>0.0</td>\n",
       "      <td>0.0</td>\n",
       "      <td>0.0</td>\n",
       "      <td>0.0</td>\n",
       "      <td>0.0</td>\n",
       "      <td>0.0</td>\n",
       "      <td>0.0</td>\n",
       "      <td>0.0</td>\n",
       "    </tr>\n",
       "    <tr>\n",
       "      <th>4</th>\n",
       "      <td>0.00280</td>\n",
       "      <td>1</td>\n",
       "      <td>2015</td>\n",
       "      <td>1</td>\n",
       "      <td>1</td>\n",
       "      <td>3</td>\n",
       "      <td>0.0</td>\n",
       "      <td>1.0</td>\n",
       "      <td>0.0</td>\n",
       "      <td>0.0</td>\n",
       "      <td>...</td>\n",
       "      <td>0.0</td>\n",
       "      <td>0.0</td>\n",
       "      <td>0.0</td>\n",
       "      <td>0.0</td>\n",
       "      <td>0.0</td>\n",
       "      <td>0.0</td>\n",
       "      <td>0.0</td>\n",
       "      <td>0.0</td>\n",
       "      <td>0.0</td>\n",
       "      <td>0.0</td>\n",
       "    </tr>\n",
       "    <tr>\n",
       "      <th>...</th>\n",
       "      <td>...</td>\n",
       "      <td>...</td>\n",
       "      <td>...</td>\n",
       "      <td>...</td>\n",
       "      <td>...</td>\n",
       "      <td>...</td>\n",
       "      <td>...</td>\n",
       "      <td>...</td>\n",
       "      <td>...</td>\n",
       "      <td>...</td>\n",
       "      <td>...</td>\n",
       "      <td>...</td>\n",
       "      <td>...</td>\n",
       "      <td>...</td>\n",
       "      <td>...</td>\n",
       "      <td>...</td>\n",
       "      <td>...</td>\n",
       "      <td>...</td>\n",
       "      <td>...</td>\n",
       "      <td>...</td>\n",
       "      <td>...</td>\n",
       "    </tr>\n",
       "    <tr>\n",
       "      <th>2297</th>\n",
       "      <td>0.00130</td>\n",
       "      <td>1</td>\n",
       "      <td>2022</td>\n",
       "      <td>3</td>\n",
       "      <td>1</td>\n",
       "      <td>1</td>\n",
       "      <td>1.0</td>\n",
       "      <td>0.0</td>\n",
       "      <td>0.0</td>\n",
       "      <td>0.0</td>\n",
       "      <td>...</td>\n",
       "      <td>0.0</td>\n",
       "      <td>0.0</td>\n",
       "      <td>0.0</td>\n",
       "      <td>0.0</td>\n",
       "      <td>0.0</td>\n",
       "      <td>0.0</td>\n",
       "      <td>0.0</td>\n",
       "      <td>0.0</td>\n",
       "      <td>0.0</td>\n",
       "      <td>0.0</td>\n",
       "    </tr>\n",
       "    <tr>\n",
       "      <th>2298</th>\n",
       "      <td>0.00056</td>\n",
       "      <td>1</td>\n",
       "      <td>2022</td>\n",
       "      <td>3</td>\n",
       "      <td>1</td>\n",
       "      <td>1</td>\n",
       "      <td>1.0</td>\n",
       "      <td>0.0</td>\n",
       "      <td>0.0</td>\n",
       "      <td>0.0</td>\n",
       "      <td>...</td>\n",
       "      <td>0.0</td>\n",
       "      <td>0.0</td>\n",
       "      <td>0.0</td>\n",
       "      <td>0.0</td>\n",
       "      <td>0.0</td>\n",
       "      <td>0.0</td>\n",
       "      <td>0.0</td>\n",
       "      <td>0.0</td>\n",
       "      <td>0.0</td>\n",
       "      <td>0.0</td>\n",
       "    </tr>\n",
       "    <tr>\n",
       "      <th>2299</th>\n",
       "      <td>0.00152</td>\n",
       "      <td>1</td>\n",
       "      <td>2022</td>\n",
       "      <td>3</td>\n",
       "      <td>1</td>\n",
       "      <td>1</td>\n",
       "      <td>1.0</td>\n",
       "      <td>0.0</td>\n",
       "      <td>0.0</td>\n",
       "      <td>0.0</td>\n",
       "      <td>...</td>\n",
       "      <td>0.0</td>\n",
       "      <td>0.0</td>\n",
       "      <td>0.0</td>\n",
       "      <td>0.0</td>\n",
       "      <td>0.0</td>\n",
       "      <td>0.0</td>\n",
       "      <td>0.0</td>\n",
       "      <td>0.0</td>\n",
       "      <td>0.0</td>\n",
       "      <td>0.0</td>\n",
       "    </tr>\n",
       "    <tr>\n",
       "      <th>2300</th>\n",
       "      <td>0.00596</td>\n",
       "      <td>1</td>\n",
       "      <td>2022</td>\n",
       "      <td>3</td>\n",
       "      <td>2</td>\n",
       "      <td>2</td>\n",
       "      <td>1.0</td>\n",
       "      <td>0.0</td>\n",
       "      <td>0.0</td>\n",
       "      <td>0.0</td>\n",
       "      <td>...</td>\n",
       "      <td>0.0</td>\n",
       "      <td>0.0</td>\n",
       "      <td>0.0</td>\n",
       "      <td>0.0</td>\n",
       "      <td>0.0</td>\n",
       "      <td>0.0</td>\n",
       "      <td>0.0</td>\n",
       "      <td>0.0</td>\n",
       "      <td>0.0</td>\n",
       "      <td>0.0</td>\n",
       "    </tr>\n",
       "    <tr>\n",
       "      <th>2301</th>\n",
       "      <td>0.00096</td>\n",
       "      <td>1</td>\n",
       "      <td>2022</td>\n",
       "      <td>3</td>\n",
       "      <td>2</td>\n",
       "      <td>2</td>\n",
       "      <td>1.0</td>\n",
       "      <td>0.0</td>\n",
       "      <td>0.0</td>\n",
       "      <td>0.0</td>\n",
       "      <td>...</td>\n",
       "      <td>0.0</td>\n",
       "      <td>0.0</td>\n",
       "      <td>0.0</td>\n",
       "      <td>0.0</td>\n",
       "      <td>0.0</td>\n",
       "      <td>0.0</td>\n",
       "      <td>0.0</td>\n",
       "      <td>0.0</td>\n",
       "      <td>0.0</td>\n",
       "      <td>0.0</td>\n",
       "    </tr>\n",
       "  </tbody>\n",
       "</table>\n",
       "<p>2302 rows × 133 columns</p>\n",
       "</div>"
      ],
      "text/plain": [
       "       Amount  Expense  year  month  day  dayofweek  \\\n",
       "0     0.00016        1  2015      1    1          3   \n",
       "1     0.00036        1  2015      1    1          3   \n",
       "2     0.00116        1  2015      1    1          3   \n",
       "3     0.00796        1  2015      1    1          3   \n",
       "4     0.00280        1  2015      1    1          3   \n",
       "...       ...      ...   ...    ...  ...        ...   \n",
       "2297  0.00130        1  2022      3    1          1   \n",
       "2298  0.00056        1  2022      3    1          1   \n",
       "2299  0.00152        1  2022      3    1          1   \n",
       "2300  0.00596        1  2022      3    2          2   \n",
       "2301  0.00096        1  2022      3    2          2   \n",
       "\n",
       "      Mode_CUB - online payment  Mode_Cash  Mode_Credit Card  Mode_Debit Card  \\\n",
       "0                           0.0        1.0               0.0              0.0   \n",
       "1                           0.0        1.0               0.0              0.0   \n",
       "2                           0.0        1.0               0.0              0.0   \n",
       "3                           0.0        0.0               1.0              0.0   \n",
       "4                           0.0        1.0               0.0              0.0   \n",
       "...                         ...        ...               ...              ...   \n",
       "2297                        1.0        0.0               0.0              0.0   \n",
       "2298                        1.0        0.0               0.0              0.0   \n",
       "2299                        1.0        0.0               0.0              0.0   \n",
       "2300                        1.0        0.0               0.0              0.0   \n",
       "2301                        1.0        0.0               0.0              0.0   \n",
       "\n",
       "      ...  Subcategory_gift  Subcategory_grooming  Subcategory_home decor  \\\n",
       "0     ...               0.0                   0.0                     0.0   \n",
       "1     ...               0.0                   0.0                     0.0   \n",
       "2     ...               0.0                   0.0                     0.0   \n",
       "3     ...               0.0                   0.0                     0.0   \n",
       "4     ...               0.0                   0.0                     0.0   \n",
       "...   ...               ...                   ...                     ...   \n",
       "2297  ...               0.0                   0.0                     0.0   \n",
       "2298  ...               0.0                   0.0                     0.0   \n",
       "2299  ...               0.0                   0.0                     0.0   \n",
       "2300  ...               0.0                   0.0                     0.0   \n",
       "2301  ...               0.0                   0.0                     0.0   \n",
       "\n",
       "      Subcategory_makeup  Subcategory_medicine  Subcategory_misc  \\\n",
       "0                    0.0                   0.0               0.0   \n",
       "1                    0.0                   0.0               0.0   \n",
       "2                    0.0                   0.0               0.0   \n",
       "3                    0.0                   0.0               0.0   \n",
       "4                    0.0                   0.0               0.0   \n",
       "...                  ...                   ...               ...   \n",
       "2297                 0.0                   0.0               0.0   \n",
       "2298                 0.0                   0.0               0.0   \n",
       "2299                 0.0                   0.0               0.0   \n",
       "2300                 0.0                   0.0               0.0   \n",
       "2301                 0.0                   0.0               0.0   \n",
       "\n",
       "      Subcategory_ropeway  Subcategory_snacks  Subcategory_train  \\\n",
       "0                     0.0                 0.0                0.0   \n",
       "1                     0.0                 0.0                0.0   \n",
       "2                     0.0                 0.0                0.0   \n",
       "3                     0.0                 0.0                0.0   \n",
       "4                     0.0                 0.0                0.0   \n",
       "...                   ...                 ...                ...   \n",
       "2297                  0.0                 0.0                0.0   \n",
       "2298                  0.0                 0.0                0.0   \n",
       "2299                  0.0                 0.0                0.0   \n",
       "2300                  0.0                 0.0                0.0   \n",
       "2301                  0.0                 0.0                0.0   \n",
       "\n",
       "      Subcategory_vegetables  \n",
       "0                        0.0  \n",
       "1                        0.0  \n",
       "2                        0.0  \n",
       "3                        0.0  \n",
       "4                        0.0  \n",
       "...                      ...  \n",
       "2297                     0.0  \n",
       "2298                     0.0  \n",
       "2299                     0.0  \n",
       "2300                     0.0  \n",
       "2301                     0.0  \n",
       "\n",
       "[2302 rows x 133 columns]"
      ]
     },
     "execution_count": 20,
     "metadata": {},
     "output_type": "execute_result"
    }
   ],
   "source": [
    "# year, month, day\n",
    "df = df.sort_values(by=['year', 'month', 'day']).reset_index(drop=True)\n",
    "df"
   ]
  },
  {
   "cell_type": "markdown",
   "metadata": {},
   "source": [
    "## Train-test-validation split"
   ]
  },
  {
   "cell_type": "markdown",
   "metadata": {},
   "source": [
    "We use split ratio 70:15:15 for training, validation, and testing  "
   ]
  },
  {
   "cell_type": "code",
   "execution_count": 21,
   "metadata": {},
   "outputs": [
    {
     "name": "stdout",
     "output_type": "stream",
     "text": [
      "Train Set Size: (1611, 132)\n",
      "Validation Set Size: (345, 132)\n",
      "Test Set Size: (346, 132)\n",
      "\n",
      "Train Periode: from 2015-1-1 until 2018-2-7\n",
      "Validation Periode: from 2018-2-7 until 2018-8-5\n",
      "Test Periode: from 2018-8-5 until 2022-3-2\n"
     ]
    }
   ],
   "source": [
    "# 70% training, 15% validation, 15% test\n",
    "train_size = int(len(df) * 0.7)\n",
    "val_size = int(len(df) * 0.15)\n",
    "\n",
    "# Split into train, validation, and test\n",
    "X = df.drop(columns=['Amount'])\n",
    "y = df['Amount']\n",
    "\n",
    "# Train set\n",
    "X_train = X[:train_size]\n",
    "y_train = y[:train_size]\n",
    "\n",
    "# Validation set\n",
    "X_val = X[train_size:train_size+val_size]\n",
    "y_val = y[train_size:train_size+val_size]\n",
    "\n",
    "# Test set\n",
    "X_test = X[train_size+val_size:]\n",
    "y_test = y[train_size+val_size:]\n",
    "\n",
    "# Shape of split sets\n",
    "print(\"Train Set Size:\", X_train.shape)\n",
    "print(\"Validation Set Size:\", X_val.shape)\n",
    "print(\"Test Set Size:\", X_test.shape)\n",
    "\n",
    "# Periode data\n",
    "print(\"\\nTrain Periode:\", \n",
    "      f\"from {X_train['year'].iloc[0]}-{X_train['month'].iloc[0]}-{X_train['day'].iloc[0]}\",\n",
    "      f\"until {X_train['year'].iloc[-1]}-{X_train['month'].iloc[-1]}-{X_train['day'].iloc[-1]}\")\n",
    "print(\"Validation Periode:\", \n",
    "      f\"from {X_val['year'].iloc[0]}-{X_val['month'].iloc[0]}-{X_val['day'].iloc[0]}\",\n",
    "      f\"until {X_val['year'].iloc[-1]}-{X_val['month'].iloc[-1]}-{X_val['day'].iloc[-1]}\")\n",
    "print(\"Test Periode:\", \n",
    "      f\"from {X_test['year'].iloc[0]}-{X_test['month'].iloc[0]}-{X_test['day'].iloc[0]}\",\n",
    "      f\"until {X_test['year'].iloc[-1]}-{X_test['month'].iloc[-1]}-{X_test['day'].iloc[-1]}\")"
   ]
  },
  {
   "cell_type": "markdown",
   "metadata": {},
   "source": [
    "## Sequences"
   ]
  },
  {
   "cell_type": "markdown",
   "metadata": {},
   "source": [
    "### 1. Sequences Function"
   ]
  },
  {
   "cell_type": "markdown",
   "metadata": {},
   "source": [
    "Make sequences for time series forecasting with parameter\n",
    "- X: features\n",
    "- y: target\n",
    "- window_size: the day before prediction\n",
    "- horizon: the next day for prediction"
   ]
  },
  {
   "cell_type": "code",
   "execution_count": 22,
   "metadata": {},
   "outputs": [],
   "source": [
    "def create_sequences(X, y, window_size=15, horizon=15, stride=1):\n",
    "\n",
    "    # Array to keep sequences\n",
    "    X_seq, y_seq = [], []\n",
    "    \n",
    "    for i in range(0, len(X) - window_size - horizon + 1, stride):\n",
    "        # Sequence input\n",
    "        X_seq.append(X[i:(i + window_size)].values)\n",
    "        # Target output (horizon for next day)\n",
    "        y_seq.append(y[i + window_size:i + window_size + horizon].values)\n",
    "    \n",
    "    return np.array(X_seq), np.array(y_seq)"
   ]
  },
  {
   "cell_type": "markdown",
   "metadata": {},
   "source": [
    "### 2. Define Parameters"
   ]
  },
  {
   "cell_type": "markdown",
   "metadata": {},
   "source": [
    "In this model, we will use the first 15 days for the training process and for the next 15 days used as a prediction output."
   ]
  },
  {
   "cell_type": "code",
   "execution_count": 23,
   "metadata": {},
   "outputs": [],
   "source": [
    "WINDOW_SIZE = 15  # First 15 days\n",
    "HORIZON = 15      # Predict next 15 days"
   ]
  },
  {
   "cell_type": "markdown",
   "metadata": {},
   "source": [
    "### 3. Create Sequences"
   ]
  },
  {
   "cell_type": "code",
   "execution_count": 24,
   "metadata": {},
   "outputs": [
    {
     "name": "stdout",
     "output_type": "stream",
     "text": [
      "Shape of X train sequences: (1582, 15, 132)\n",
      "Shape of y train sequences: (1582, 15)\n",
      "Shape of X validation sequences: (316, 15, 132)\n",
      "Shape of y validation sequences: (316, 15)\n",
      "Shape of X test sequences: (317, 15, 132)\n",
      "Shape of y test sequences: (317, 15)\n"
     ]
    }
   ],
   "source": [
    "# Sequences for training set\n",
    "X_train_seq, y_train_seq = create_sequences(X_train, y_train, \n",
    "                                          window_size=WINDOW_SIZE, \n",
    "                                          horizon=HORIZON)\n",
    "\n",
    "# Sequences for validation set\n",
    "X_val_seq, y_val_seq = create_sequences(X_val, y_val,\n",
    "                                      window_size=WINDOW_SIZE,\n",
    "                                      horizon=HORIZON)\n",
    "\n",
    "# Sequences for test set\n",
    "X_test_seq, y_test_seq = create_sequences(X_test, y_test,\n",
    "                                        window_size=WINDOW_SIZE,\n",
    "                                        horizon=HORIZON)\n",
    "\n",
    "# Print shape\n",
    "print(\"Shape of X train sequences:\", X_train_seq.shape)\n",
    "print(\"Shape of y train sequences:\", y_train_seq.shape)\n",
    "print(\"Shape of X validation sequences:\", X_val_seq.shape)\n",
    "print(\"Shape of y validation sequences:\", y_val_seq.shape)\n",
    "print(\"Shape of X test sequences:\", X_test_seq.shape)\n",
    "print(\"Shape of y test sequences:\", y_test_seq.shape)"
   ]
  },
  {
   "cell_type": "markdown",
   "metadata": {},
   "source": [
    "## Modeling"
   ]
  },
  {
   "cell_type": "markdown",
   "metadata": {},
   "source": [
    "### 1. Model Function "
   ]
  },
  {
   "cell_type": "code",
   "execution_count": 25,
   "metadata": {},
   "outputs": [
    {
     "name": "stderr",
     "output_type": "stream",
     "text": [
      "c:\\Users\\ASUS\\AppData\\Local\\Programs\\Python\\Python312\\Lib\\site-packages\\keras\\src\\layers\\core\\input_layer.py:26: UserWarning: Argument `input_shape` is deprecated. Use `shape` instead.\n",
      "  warnings.warn(\n"
     ]
    },
    {
     "data": {
      "text/html": [
       "<pre style=\"white-space:pre;overflow-x:auto;line-height:normal;font-family:Menlo,'DejaVu Sans Mono',consolas,'Courier New',monospace\"><span style=\"font-weight: bold\">Model: \"sequential\"</span>\n",
       "</pre>\n"
      ],
      "text/plain": [
       "\u001b[1mModel: \"sequential\"\u001b[0m\n"
      ]
     },
     "metadata": {},
     "output_type": "display_data"
    },
    {
     "data": {
      "text/html": [
       "<pre style=\"white-space:pre;overflow-x:auto;line-height:normal;font-family:Menlo,'DejaVu Sans Mono',consolas,'Courier New',monospace\">┏━━━━━━━━━━━━━━━━━━━━━━━━━━━━━━━━━┳━━━━━━━━━━━━━━━━━━━━━━━━┳━━━━━━━━━━━━━━━┓\n",
       "┃<span style=\"font-weight: bold\"> Layer (type)                    </span>┃<span style=\"font-weight: bold\"> Output Shape           </span>┃<span style=\"font-weight: bold\">       Param # </span>┃\n",
       "┡━━━━━━━━━━━━━━━━━━━━━━━━━━━━━━━━━╇━━━━━━━━━━━━━━━━━━━━━━━━╇━━━━━━━━━━━━━━━┩\n",
       "│ bidirectional (<span style=\"color: #0087ff; text-decoration-color: #0087ff\">Bidirectional</span>)   │ (<span style=\"color: #00d7ff; text-decoration-color: #00d7ff\">None</span>, <span style=\"color: #00af00; text-decoration-color: #00af00\">15</span>, <span style=\"color: #00af00; text-decoration-color: #00af00\">1024</span>)       │     <span style=\"color: #00af00; text-decoration-color: #00af00\">2,641,920</span> │\n",
       "├─────────────────────────────────┼────────────────────────┼───────────────┤\n",
       "│ bidirectional_1 (<span style=\"color: #0087ff; text-decoration-color: #0087ff\">Bidirectional</span>) │ (<span style=\"color: #00d7ff; text-decoration-color: #00d7ff\">None</span>, <span style=\"color: #00af00; text-decoration-color: #00af00\">15</span>, <span style=\"color: #00af00; text-decoration-color: #00af00\">512</span>)        │     <span style=\"color: #00af00; text-decoration-color: #00af00\">2,623,488</span> │\n",
       "├─────────────────────────────────┼────────────────────────┼───────────────┤\n",
       "│ lstm_2 (<span style=\"color: #0087ff; text-decoration-color: #0087ff\">LSTM</span>)                   │ (<span style=\"color: #00d7ff; text-decoration-color: #00d7ff\">None</span>, <span style=\"color: #00af00; text-decoration-color: #00af00\">128</span>)            │       <span style=\"color: #00af00; text-decoration-color: #00af00\">328,192</span> │\n",
       "├─────────────────────────────────┼────────────────────────┼───────────────┤\n",
       "│ dense (<span style=\"color: #0087ff; text-decoration-color: #0087ff\">Dense</span>)                   │ (<span style=\"color: #00d7ff; text-decoration-color: #00d7ff\">None</span>, <span style=\"color: #00af00; text-decoration-color: #00af00\">128</span>)            │        <span style=\"color: #00af00; text-decoration-color: #00af00\">16,512</span> │\n",
       "├─────────────────────────────────┼────────────────────────┼───────────────┤\n",
       "│ dense_1 (<span style=\"color: #0087ff; text-decoration-color: #0087ff\">Dense</span>)                 │ (<span style=\"color: #00d7ff; text-decoration-color: #00d7ff\">None</span>, <span style=\"color: #00af00; text-decoration-color: #00af00\">64</span>)             │         <span style=\"color: #00af00; text-decoration-color: #00af00\">8,256</span> │\n",
       "├─────────────────────────────────┼────────────────────────┼───────────────┤\n",
       "│ dense_2 (<span style=\"color: #0087ff; text-decoration-color: #0087ff\">Dense</span>)                 │ (<span style=\"color: #00d7ff; text-decoration-color: #00d7ff\">None</span>, <span style=\"color: #00af00; text-decoration-color: #00af00\">15</span>)             │           <span style=\"color: #00af00; text-decoration-color: #00af00\">975</span> │\n",
       "└─────────────────────────────────┴────────────────────────┴───────────────┘\n",
       "</pre>\n"
      ],
      "text/plain": [
       "┏━━━━━━━━━━━━━━━━━━━━━━━━━━━━━━━━━┳━━━━━━━━━━━━━━━━━━━━━━━━┳━━━━━━━━━━━━━━━┓\n",
       "┃\u001b[1m \u001b[0m\u001b[1mLayer (type)                   \u001b[0m\u001b[1m \u001b[0m┃\u001b[1m \u001b[0m\u001b[1mOutput Shape          \u001b[0m\u001b[1m \u001b[0m┃\u001b[1m \u001b[0m\u001b[1m      Param #\u001b[0m\u001b[1m \u001b[0m┃\n",
       "┡━━━━━━━━━━━━━━━━━━━━━━━━━━━━━━━━━╇━━━━━━━━━━━━━━━━━━━━━━━━╇━━━━━━━━━━━━━━━┩\n",
       "│ bidirectional (\u001b[38;5;33mBidirectional\u001b[0m)   │ (\u001b[38;5;45mNone\u001b[0m, \u001b[38;5;34m15\u001b[0m, \u001b[38;5;34m1024\u001b[0m)       │     \u001b[38;5;34m2,641,920\u001b[0m │\n",
       "├─────────────────────────────────┼────────────────────────┼───────────────┤\n",
       "│ bidirectional_1 (\u001b[38;5;33mBidirectional\u001b[0m) │ (\u001b[38;5;45mNone\u001b[0m, \u001b[38;5;34m15\u001b[0m, \u001b[38;5;34m512\u001b[0m)        │     \u001b[38;5;34m2,623,488\u001b[0m │\n",
       "├─────────────────────────────────┼────────────────────────┼───────────────┤\n",
       "│ lstm_2 (\u001b[38;5;33mLSTM\u001b[0m)                   │ (\u001b[38;5;45mNone\u001b[0m, \u001b[38;5;34m128\u001b[0m)            │       \u001b[38;5;34m328,192\u001b[0m │\n",
       "├─────────────────────────────────┼────────────────────────┼───────────────┤\n",
       "│ dense (\u001b[38;5;33mDense\u001b[0m)                   │ (\u001b[38;5;45mNone\u001b[0m, \u001b[38;5;34m128\u001b[0m)            │        \u001b[38;5;34m16,512\u001b[0m │\n",
       "├─────────────────────────────────┼────────────────────────┼───────────────┤\n",
       "│ dense_1 (\u001b[38;5;33mDense\u001b[0m)                 │ (\u001b[38;5;45mNone\u001b[0m, \u001b[38;5;34m64\u001b[0m)             │         \u001b[38;5;34m8,256\u001b[0m │\n",
       "├─────────────────────────────────┼────────────────────────┼───────────────┤\n",
       "│ dense_2 (\u001b[38;5;33mDense\u001b[0m)                 │ (\u001b[38;5;45mNone\u001b[0m, \u001b[38;5;34m15\u001b[0m)             │           \u001b[38;5;34m975\u001b[0m │\n",
       "└─────────────────────────────────┴────────────────────────┴───────────────┘\n"
      ]
     },
     "metadata": {},
     "output_type": "display_data"
    },
    {
     "data": {
      "text/html": [
       "<pre style=\"white-space:pre;overflow-x:auto;line-height:normal;font-family:Menlo,'DejaVu Sans Mono',consolas,'Courier New',monospace\"><span style=\"font-weight: bold\"> Total params: </span><span style=\"color: #00af00; text-decoration-color: #00af00\">5,619,343</span> (21.44 MB)\n",
       "</pre>\n"
      ],
      "text/plain": [
       "\u001b[1m Total params: \u001b[0m\u001b[38;5;34m5,619,343\u001b[0m (21.44 MB)\n"
      ]
     },
     "metadata": {},
     "output_type": "display_data"
    },
    {
     "data": {
      "text/html": [
       "<pre style=\"white-space:pre;overflow-x:auto;line-height:normal;font-family:Menlo,'DejaVu Sans Mono',consolas,'Courier New',monospace\"><span style=\"font-weight: bold\"> Trainable params: </span><span style=\"color: #00af00; text-decoration-color: #00af00\">5,619,343</span> (21.44 MB)\n",
       "</pre>\n"
      ],
      "text/plain": [
       "\u001b[1m Trainable params: \u001b[0m\u001b[38;5;34m5,619,343\u001b[0m (21.44 MB)\n"
      ]
     },
     "metadata": {},
     "output_type": "display_data"
    },
    {
     "data": {
      "text/html": [
       "<pre style=\"white-space:pre;overflow-x:auto;line-height:normal;font-family:Menlo,'DejaVu Sans Mono',consolas,'Courier New',monospace\"><span style=\"font-weight: bold\"> Non-trainable params: </span><span style=\"color: #00af00; text-decoration-color: #00af00\">0</span> (0.00 B)\n",
       "</pre>\n"
      ],
      "text/plain": [
       "\u001b[1m Non-trainable params: \u001b[0m\u001b[38;5;34m0\u001b[0m (0.00 B)\n"
      ]
     },
     "metadata": {},
     "output_type": "display_data"
    }
   ],
   "source": [
    "def create_model(input_shape):\n",
    "    model = tf.keras.Sequential([\n",
    "        tf.keras.layers.InputLayer(input_shape=input_shape),                        # Input layer       \n",
    "        \n",
    "        tf.keras.layers.Bidirectional(tf.keras.layers.LSTM(512, activation='relu',  # Bidirectional LSTM layer\n",
    "                             return_sequences=True, \n",
    "                             )),      \n",
    "        # tf.keras.layers.Dropout(0.3),                                             # Dropout layer for regularization (avoid overfitting)\n",
    "        \n",
    "        tf.keras.layers.Bidirectional(tf.keras.layers.LSTM(256, \n",
    "                                                           activation='relu', \n",
    "                                                           return_sequences=True)),\n",
    "        # tf.keras.layers.Dropout(0.2),\n",
    "        \n",
    "        tf.keras.layers.LSTM(128, activation='relu'),\n",
    "        # tf.keras.layers.Dropout(0.2),\n",
    "        \n",
    "        tf.keras.layers.Dense(128, activation='relu'),      # Dense layer\n",
    "        tf.keras.layers.Dense(64, activation='relu'),   \n",
    "        tf.keras.layers.Dense(HORIZON)                      # Output layer for predict HORIZON\n",
    "    ])\n",
    "    \n",
    "    return model\n",
    "\n",
    "# Model Initialization\n",
    "input_shape = (WINDOW_SIZE, X_train.shape[1])               # (sequence_length, features)\n",
    "model = create_model(input_shape)\n",
    "\n",
    "# Compile model\n",
    "model.compile(optimizer='adam',\n",
    "             loss=tf.losses.MeanSquaredError(),\n",
    "             metrics=['mae'])\n",
    "\n",
    "# Summary\n",
    "model.summary()"
   ]
  },
  {
   "cell_type": "code",
   "execution_count": 26,
   "metadata": {},
   "outputs": [],
   "source": [
    "# def create_model(input_shape):\n",
    "#     model = tf.keras.Sequential([\n",
    "#         # CNN layers\n",
    "#         tf.keras.layers.Conv1D(filters=512, kernel_size=5, strides=1, padding='causal', activation='relu', input_shape=input_shape),\n",
    "#         tf.keras.layers.MaxPooling1D(pool_size=2),\n",
    "#         tf.keras.layers.Conv1D(filters=256, kernel_size=5, strides=1, padding='causal', activation='relu'),\n",
    "#         tf.keras.layers.MaxPooling1D(pool_size=2),\n",
    "        \n",
    "#         #GRU\n",
    "#         tf.keras.layers.GRU(512, activation='relu', return_sequences=True),\n",
    "#         tf.keras.layers.GRU(256, activation='relu', return_sequences=True),\n",
    "#         tf.keras.layers.GRU(128, activation='relu', return_sequences=True),\n",
    "#         tf.keras.layers.GRU(64, activation='relu'),\n",
    "        \n",
    "#         # # LSTM layers\n",
    "#         # tf.keras.layers.LSTM(256, activation='relu', return_sequences=True),\n",
    "#         # tf.keras.layers.LSTM(128, activation='relu', return_sequences=True),\n",
    "#         # tf.keras.layers.LSTM(64, activation='relu'),\n",
    "\n",
    "#         # Dense layers\n",
    "\n",
    "#         tf.keras.layers.Dense(256, input_shape=[WINDOW_SIZE], activation='relu'),\n",
    "#         tf.keras.layers.Dense(128, activation='relu'),\n",
    "#         tf.keras.layers.Dense(HORIZON)  \n",
    "#     ])\n",
    "#     #     tf.keras.layers.InputLayer(input_shape=input_shape),                        # Input layer       \n",
    "        \n",
    "#     #     # \n",
    "#     #     tf.keras.layers.Bidirectional(tf.keras.layers.LSTM(512, activation='elu',  # Bidirectional LSTM layer\n",
    "#     #                          return_sequences=True, \n",
    "#     #                          )),      \n",
    "#     #     # tf.keras.layers.Dropout(0.3),                                             # Dropout layer for regularization (avoid overfitting)\n",
    "        \n",
    "#     #     tf.keras.layers.Bidirectional(tf.keras.layers.LSTM(256, \n",
    "#     #                                                        activation='elu', \n",
    "#     #                                                        return_sequences=True)),\n",
    "#     #     # tf.keras.layers.Dropout(0.2),\n",
    "        \n",
    "#     #     tf.keras.layers.LSTM(128, activation='relu'),\n",
    "#     #     # tf.keras.layers.BatchNormalization(),\n",
    "#     #     # tf.keras.layers.Dropout(0.2),\n",
    "        \n",
    "#     #     tf.keras.layers.Dense(128, activation='relu'),      # Dense layer\n",
    "#     #     tf.keras.layers.Dense(64, activation='relu'),   \n",
    "#     #     tf.keras.layers.Dense(HORIZON)                      # Output layer for predict HORIZON\n",
    "#     # ])\n",
    "    \n",
    "#     return model\n",
    "\n",
    "# # Model Initialization\n",
    "# input_shape = (WINDOW_SIZE, X_train.shape[1])               # (sequence_length, features)\n",
    "\n",
    "# model = create_model(input_shape)\n",
    "\n",
    "# # Compile model\n",
    "# model.compile(optimizer= tf.optimizers.Adam(learning_rate=0.001),\n",
    "#              loss=tf.losses.MeanSquaredError(),\n",
    "#              metrics=['mae'])\n",
    "\n",
    "# # Summary\n",
    "# model.summary()"
   ]
  },
  {
   "cell_type": "code",
   "execution_count": 27,
   "metadata": {},
   "outputs": [],
   "source": [
    "# def create_hybrid_model(input_shape):\n",
    "#     model = tf.keras.Sequential([\n",
    "#         # Leaky ReLU\n",
    "#         tf.keras.layers.Conv1D(filters=128, kernel_size=3, activation=tf.keras.layers.LeakyReLU(alpha=0.1), \n",
    "#                                input_shape=input_shape),\n",
    "#         tf.keras.layers.MaxPooling1D(pool_size=2),\n",
    "#         tf.keras.layers.Dropout(0.3),\n",
    "        \n",
    "#         # ELU\n",
    "#         # biderectional LSTM\n",
    "#         tf.keras.layers.Bidirectional(tf.keras.layers.LSTM(256, activation='elu', return_sequences=True)),\n",
    "#         tf.keras.layers.Dropout(0.3),\n",
    "        \n",
    "#         # Parametric ReLU\n",
    "#         tf.keras.layers.Conv1D(filters=64, kernel_size=3, activation=tf.keras.layers.PReLU(),\n",
    "#                                input_shape=input_shape),\n",
    "#         tf.keras.layers.MaxPooling1D(pool_size=2),\n",
    "#         tf.keras.layers.Dropout(0.3),\n",
    "\n",
    "#         # tf.keras.layers.Flatten(),\n",
    "                \n",
    "#         # ELU LSTM\n",
    "#         tf.keras.layers.Bidirectional(tf.keras.layers.LSTM(256, activation='elu')),\n",
    "#         tf.keras.layers.Dropout(0.2),\n",
    "\n",
    "#         # Dense layers with ReLU\n",
    "#         tf.keras.layers.Dense(128, activation='relu'),\n",
    "#         tf.keras.layers.Dropout(0.4),\n",
    "        \n",
    "#         # Dense layers with ReLU\n",
    "#         tf.keras.layers.Dense(128, activation='relu'),\n",
    "#         tf.keras.layers.Dropout(0.2),\n",
    "        \n",
    "#         tf.keras.layers.Dense(64, activation=tf.keras.layers.LeakyReLU(alpha=0.01)),\n",
    "#         tf.keras.layers.Dropout(0.2),\n",
    "        \n",
    "#         # Output layer\n",
    "#         tf.keras.layers.Dense(HORIZON)\n",
    "#     ])\n",
    "    \n",
    "#     return model\n",
    "\n",
    "\n",
    "# # Model Initialization\n",
    "# input_shape = (WINDOW_SIZE, X_train.shape[1])  # (sequence_length, features)\n",
    "# model = create_hybrid_model(input_shape)\n",
    "\n",
    "# # Compile model\n",
    "# model.compile(optimizer='adam',\n",
    "#              loss=tf.losses.MeanSquaredError(),\n",
    "#              metrics=['mae'])\n",
    "\n",
    "# # Summary\n",
    "# model.summary()"
   ]
  },
  {
   "cell_type": "markdown",
   "metadata": {},
   "source": [
    "### 2. Callbacks"
   ]
  },
  {
   "cell_type": "code",
   "execution_count": 28,
   "metadata": {},
   "outputs": [],
   "source": [
    "early_stopping = tf.keras.callbacks.EarlyStopping(\n",
    "    monitor='val_loss',\n",
    "    patience=30,\n",
    "    restore_best_weights=True\n",
    ")"
   ]
  },
  {
   "cell_type": "code",
   "execution_count": 29,
   "metadata": {},
   "outputs": [],
   "source": [
    "# # Tambahkan learning rate scheduler\n",
    "# lr_scheduler = tf.keras.callbacks.ReduceLROnPlateau(\n",
    "#     monitor='val_loss',\n",
    "#     factor=0.5,\n",
    "#     patience=10,\n",
    "#     min_lr=0.00001\n",
    "# )"
   ]
  },
  {
   "cell_type": "markdown",
   "metadata": {},
   "source": [
    "### 3. Traning model"
   ]
  },
  {
   "cell_type": "markdown",
   "metadata": {},
   "source": [
    "100 epochs and 32 batch_size"
   ]
  },
  {
   "cell_type": "code",
   "execution_count": 30,
   "metadata": {},
   "outputs": [
    {
     "name": "stdout",
     "output_type": "stream",
     "text": [
      "Epoch 1/200\n",
      "\u001b[1m50/50\u001b[0m \u001b[32m━━━━━━━━━━━━━━━━━━━━\u001b[0m\u001b[37m\u001b[0m \u001b[1m36s\u001b[0m 339ms/step - loss: 86942.6953 - mae: 206.1024 - val_loss: 190363.6094 - val_mae: 324.1894\n",
      "Epoch 2/200\n",
      "\u001b[1m50/50\u001b[0m \u001b[32m━━━━━━━━━━━━━━━━━━━━\u001b[0m\u001b[37m\u001b[0m \u001b[1m15s\u001b[0m 242ms/step - loss: 59056.7148 - mae: 156.1285 - val_loss: 26229.6465 - val_mae: 127.5333\n",
      "Epoch 3/200\n",
      "\u001b[1m50/50\u001b[0m \u001b[32m━━━━━━━━━━━━━━━━━━━━\u001b[0m\u001b[37m\u001b[0m \u001b[1m16s\u001b[0m 329ms/step - loss: 5505.6626 - mae: 29.8887 - val_loss: 0.0011 - val_mae: 0.0146\n",
      "Epoch 4/200\n",
      "\u001b[1m50/50\u001b[0m \u001b[32m━━━━━━━━━━━━━━━━━━━━\u001b[0m\u001b[37m\u001b[0m \u001b[1m12s\u001b[0m 238ms/step - loss: 28.0326 - mae: 0.8608 - val_loss: 0.0011 - val_mae: 0.0145\n",
      "Epoch 5/200\n",
      "\u001b[1m50/50\u001b[0m \u001b[32m━━━━━━━━━━━━━━━━━━━━\u001b[0m\u001b[37m\u001b[0m \u001b[1m13s\u001b[0m 258ms/step - loss: 6.4040 - mae: 0.2367 - val_loss: 0.0011 - val_mae: 0.0145\n",
      "Epoch 6/200\n",
      "\u001b[1m50/50\u001b[0m \u001b[32m━━━━━━━━━━━━━━━━━━━━\u001b[0m\u001b[37m\u001b[0m \u001b[1m15s\u001b[0m 297ms/step - loss: 0.6588 - mae: 0.0924 - val_loss: 0.0011 - val_mae: 0.0145\n",
      "Epoch 7/200\n",
      "\u001b[1m50/50\u001b[0m \u001b[32m━━━━━━━━━━━━━━━━━━━━\u001b[0m\u001b[37m\u001b[0m \u001b[1m10s\u001b[0m 208ms/step - loss: 0.0036 - mae: 0.0199 - val_loss: 0.0011 - val_mae: 0.0145\n",
      "Epoch 8/200\n",
      "\u001b[1m50/50\u001b[0m \u001b[32m━━━━━━━━━━━━━━━━━━━━\u001b[0m\u001b[37m\u001b[0m \u001b[1m9s\u001b[0m 188ms/step - loss: 0.0040 - mae: 0.0201 - val_loss: 0.0011 - val_mae: 0.0145\n",
      "Epoch 9/200\n",
      "\u001b[1m50/50\u001b[0m \u001b[32m━━━━━━━━━━━━━━━━━━━━\u001b[0m\u001b[37m\u001b[0m \u001b[1m12s\u001b[0m 239ms/step - loss: 0.0036 - mae: 0.0195 - val_loss: 0.0011 - val_mae: 0.0145\n",
      "Epoch 10/200\n",
      "\u001b[1m50/50\u001b[0m \u001b[32m━━━━━━━━━━━━━━━━━━━━\u001b[0m\u001b[37m\u001b[0m \u001b[1m13s\u001b[0m 255ms/step - loss: 0.0034 - mae: 0.0193 - val_loss: 0.0011 - val_mae: 0.0145\n",
      "Epoch 11/200\n",
      "\u001b[1m50/50\u001b[0m \u001b[32m━━━━━━━━━━━━━━━━━━━━\u001b[0m\u001b[37m\u001b[0m \u001b[1m7s\u001b[0m 147ms/step - loss: 0.0035 - mae: 0.0195 - val_loss: 0.0011 - val_mae: 0.0144\n",
      "Epoch 12/200\n",
      "\u001b[1m50/50\u001b[0m \u001b[32m━━━━━━━━━━━━━━━━━━━━\u001b[0m\u001b[37m\u001b[0m \u001b[1m14s\u001b[0m 277ms/step - loss: 0.0035 - mae: 0.0194 - val_loss: 0.0011 - val_mae: 0.0144\n",
      "Epoch 13/200\n",
      "\u001b[1m50/50\u001b[0m \u001b[32m━━━━━━━━━━━━━━━━━━━━\u001b[0m\u001b[37m\u001b[0m \u001b[1m14s\u001b[0m 274ms/step - loss: 0.0033 - mae: 0.0190 - val_loss: 0.0011 - val_mae: 0.0144\n",
      "Epoch 14/200\n",
      "\u001b[1m50/50\u001b[0m \u001b[32m━━━━━━━━━━━━━━━━━━━━\u001b[0m\u001b[37m\u001b[0m \u001b[1m7s\u001b[0m 142ms/step - loss: 0.0040 - mae: 0.0200 - val_loss: 0.0011 - val_mae: 0.0144\n",
      "Epoch 15/200\n",
      "\u001b[1m50/50\u001b[0m \u001b[32m━━━━━━━━━━━━━━━━━━━━\u001b[0m\u001b[37m\u001b[0m \u001b[1m8s\u001b[0m 166ms/step - loss: 0.0029 - mae: 0.0183 - val_loss: 0.0011 - val_mae: 0.0144\n",
      "Epoch 16/200\n",
      "\u001b[1m50/50\u001b[0m \u001b[32m━━━━━━━━━━━━━━━━━━━━\u001b[0m\u001b[37m\u001b[0m \u001b[1m10s\u001b[0m 203ms/step - loss: 0.0032 - mae: 0.0188 - val_loss: 0.0011 - val_mae: 0.0144\n",
      "Epoch 17/200\n",
      "\u001b[1m50/50\u001b[0m \u001b[32m━━━━━━━━━━━━━━━━━━━━\u001b[0m\u001b[37m\u001b[0m \u001b[1m7s\u001b[0m 133ms/step - loss: 0.0038 - mae: 0.0198 - val_loss: 0.0011 - val_mae: 0.0144\n",
      "Epoch 18/200\n",
      "\u001b[1m50/50\u001b[0m \u001b[32m━━━━━━━━━━━━━━━━━━━━\u001b[0m\u001b[37m\u001b[0m \u001b[1m7s\u001b[0m 131ms/step - loss: 0.0038 - mae: 0.0193 - val_loss: 0.0011 - val_mae: 0.0144\n",
      "Epoch 19/200\n",
      "\u001b[1m50/50\u001b[0m \u001b[32m━━━━━━━━━━━━━━━━━━━━\u001b[0m\u001b[37m\u001b[0m \u001b[1m7s\u001b[0m 138ms/step - loss: 0.0034 - mae: 0.0193 - val_loss: 0.0011 - val_mae: 0.0143\n",
      "Epoch 20/200\n",
      "\u001b[1m50/50\u001b[0m \u001b[32m━━━━━━━━━━━━━━━━━━━━\u001b[0m\u001b[37m\u001b[0m \u001b[1m7s\u001b[0m 144ms/step - loss: 0.0034 - mae: 0.0190 - val_loss: 0.0011 - val_mae: 0.0143\n",
      "Epoch 21/200\n",
      "\u001b[1m50/50\u001b[0m \u001b[32m━━━━━━━━━━━━━━━━━━━━\u001b[0m\u001b[37m\u001b[0m \u001b[1m7s\u001b[0m 140ms/step - loss: 0.0039 - mae: 0.0199 - val_loss: 0.0011 - val_mae: 0.0143\n",
      "Epoch 22/200\n",
      "\u001b[1m50/50\u001b[0m \u001b[32m━━━━━━━━━━━━━━━━━━━━\u001b[0m\u001b[37m\u001b[0m \u001b[1m7s\u001b[0m 143ms/step - loss: 0.0038 - mae: 0.0199 - val_loss: 0.0011 - val_mae: 0.0143\n",
      "Epoch 23/200\n",
      "\u001b[1m50/50\u001b[0m \u001b[32m━━━━━━━━━━━━━━━━━━━━\u001b[0m\u001b[37m\u001b[0m \u001b[1m8s\u001b[0m 152ms/step - loss: 0.0034 - mae: 0.0189 - val_loss: 0.0011 - val_mae: 0.0143\n",
      "Epoch 24/200\n",
      "\u001b[1m50/50\u001b[0m \u001b[32m━━━━━━━━━━━━━━━━━━━━\u001b[0m\u001b[37m\u001b[0m \u001b[1m7s\u001b[0m 144ms/step - loss: 0.0031 - mae: 0.0184 - val_loss: 0.0011 - val_mae: 0.0143\n",
      "Epoch 25/200\n",
      "\u001b[1m50/50\u001b[0m \u001b[32m━━━━━━━━━━━━━━━━━━━━\u001b[0m\u001b[37m\u001b[0m \u001b[1m8s\u001b[0m 158ms/step - loss: 0.0037 - mae: 0.0195 - val_loss: 0.0011 - val_mae: 0.0142\n",
      "Epoch 26/200\n",
      "\u001b[1m50/50\u001b[0m \u001b[32m━━━━━━━━━━━━━━━━━━━━\u001b[0m\u001b[37m\u001b[0m \u001b[1m7s\u001b[0m 146ms/step - loss: 0.0035 - mae: 0.0190 - val_loss: 0.0011 - val_mae: 0.0142\n",
      "Epoch 27/200\n",
      "\u001b[1m50/50\u001b[0m \u001b[32m━━━━━━━━━━━━━━━━━━━━\u001b[0m\u001b[37m\u001b[0m \u001b[1m8s\u001b[0m 152ms/step - loss: 0.0035 - mae: 0.0197 - val_loss: 0.0011 - val_mae: 0.0142\n",
      "Epoch 28/200\n",
      "\u001b[1m50/50\u001b[0m \u001b[32m━━━━━━━━━━━━━━━━━━━━\u001b[0m\u001b[37m\u001b[0m \u001b[1m7s\u001b[0m 141ms/step - loss: 0.0034 - mae: 0.0190 - val_loss: 0.0011 - val_mae: 0.0142\n",
      "Epoch 29/200\n",
      "\u001b[1m50/50\u001b[0m \u001b[32m━━━━━━━━━━━━━━━━━━━━\u001b[0m\u001b[37m\u001b[0m \u001b[1m7s\u001b[0m 148ms/step - loss: 0.0033 - mae: 0.0186 - val_loss: 0.0011 - val_mae: 0.0142\n",
      "Epoch 30/200\n",
      "\u001b[1m50/50\u001b[0m \u001b[32m━━━━━━━━━━━━━━━━━━━━\u001b[0m\u001b[37m\u001b[0m \u001b[1m10s\u001b[0m 197ms/step - loss: 0.0034 - mae: 0.0192 - val_loss: 0.0011 - val_mae: 0.0141\n",
      "Epoch 31/200\n",
      "\u001b[1m50/50\u001b[0m \u001b[32m━━━━━━━━━━━━━━━━━━━━\u001b[0m\u001b[37m\u001b[0m \u001b[1m9s\u001b[0m 186ms/step - loss: 0.0031 - mae: 0.0187 - val_loss: 0.0011 - val_mae: 0.0141\n",
      "Epoch 32/200\n",
      "\u001b[1m50/50\u001b[0m \u001b[32m━━━━━━━━━━━━━━━━━━━━\u001b[0m\u001b[37m\u001b[0m \u001b[1m7s\u001b[0m 148ms/step - loss: 0.0038 - mae: 0.0194 - val_loss: 0.0011 - val_mae: 0.0141\n",
      "Epoch 33/200\n",
      "\u001b[1m50/50\u001b[0m \u001b[32m━━━━━━━━━━━━━━━━━━━━\u001b[0m\u001b[37m\u001b[0m \u001b[1m7s\u001b[0m 145ms/step - loss: 0.0033 - mae: 0.0187 - val_loss: 0.0011 - val_mae: 0.0141\n",
      "Epoch 34/200\n",
      "\u001b[1m50/50\u001b[0m \u001b[32m━━━━━━━━━━━━━━━━━━━━\u001b[0m\u001b[37m\u001b[0m \u001b[1m7s\u001b[0m 147ms/step - loss: 0.0032 - mae: 0.0183 - val_loss: 0.0011 - val_mae: 0.0140\n",
      "Epoch 35/200\n",
      "\u001b[1m50/50\u001b[0m \u001b[32m━━━━━━━━━━━━━━━━━━━━\u001b[0m\u001b[37m\u001b[0m \u001b[1m7s\u001b[0m 142ms/step - loss: 0.0036 - mae: 0.0189 - val_loss: 0.0011 - val_mae: 0.0140\n",
      "Epoch 36/200\n",
      "\u001b[1m50/50\u001b[0m \u001b[32m━━━━━━━━━━━━━━━━━━━━\u001b[0m\u001b[37m\u001b[0m \u001b[1m7s\u001b[0m 143ms/step - loss: 0.0038 - mae: 0.0195 - val_loss: 0.0011 - val_mae: 0.0140\n",
      "Epoch 37/200\n",
      "\u001b[1m50/50\u001b[0m \u001b[32m━━━━━━━━━━━━━━━━━━━━\u001b[0m\u001b[37m\u001b[0m \u001b[1m7s\u001b[0m 148ms/step - loss: 0.0036 - mae: 0.0188 - val_loss: 0.0011 - val_mae: 0.0140\n",
      "Epoch 38/200\n",
      "\u001b[1m50/50\u001b[0m \u001b[32m━━━━━━━━━━━━━━━━━━━━\u001b[0m\u001b[37m\u001b[0m \u001b[1m7s\u001b[0m 146ms/step - loss: 0.0033 - mae: 0.0184 - val_loss: 0.0011 - val_mae: 0.0139\n",
      "Epoch 39/200\n",
      "\u001b[1m50/50\u001b[0m \u001b[32m━━━━━━━━━━━━━━━━━━━━\u001b[0m\u001b[37m\u001b[0m \u001b[1m8s\u001b[0m 163ms/step - loss: 0.0038 - mae: 0.0194 - val_loss: 0.0011 - val_mae: 0.0139\n",
      "Epoch 40/200\n",
      "\u001b[1m50/50\u001b[0m \u001b[32m━━━━━━━━━━━━━━━━━━━━\u001b[0m\u001b[37m\u001b[0m \u001b[1m10s\u001b[0m 199ms/step - loss: 0.0038 - mae: 0.0191 - val_loss: 0.0011 - val_mae: 0.0139\n",
      "Epoch 41/200\n",
      "\u001b[1m50/50\u001b[0m \u001b[32m━━━━━━━━━━━━━━━━━━━━\u001b[0m\u001b[37m\u001b[0m \u001b[1m8s\u001b[0m 161ms/step - loss: 0.0037 - mae: 0.0189 - val_loss: 0.0011 - val_mae: 0.0139\n",
      "Epoch 42/200\n",
      "\u001b[1m50/50\u001b[0m \u001b[32m━━━━━━━━━━━━━━━━━━━━\u001b[0m\u001b[37m\u001b[0m \u001b[1m8s\u001b[0m 157ms/step - loss: 0.0036 - mae: 0.0190 - val_loss: 0.0011 - val_mae: 0.0138\n",
      "Epoch 43/200\n",
      "\u001b[1m50/50\u001b[0m \u001b[32m━━━━━━━━━━━━━━━━━━━━\u001b[0m\u001b[37m\u001b[0m \u001b[1m8s\u001b[0m 153ms/step - loss: 0.0033 - mae: 0.0187 - val_loss: 0.0011 - val_mae: 0.0138\n",
      "Epoch 44/200\n",
      "\u001b[1m50/50\u001b[0m \u001b[32m━━━━━━━━━━━━━━━━━━━━\u001b[0m\u001b[37m\u001b[0m \u001b[1m8s\u001b[0m 151ms/step - loss: 0.0035 - mae: 0.0187 - val_loss: 0.0011 - val_mae: 0.0138\n",
      "Epoch 45/200\n",
      "\u001b[1m50/50\u001b[0m \u001b[32m━━━━━━━━━━━━━━━━━━━━\u001b[0m\u001b[37m\u001b[0m \u001b[1m7s\u001b[0m 146ms/step - loss: 0.0038 - mae: 0.0193 - val_loss: 0.0011 - val_mae: 0.0137\n",
      "Epoch 46/200\n",
      "\u001b[1m50/50\u001b[0m \u001b[32m━━━━━━━━━━━━━━━━━━━━\u001b[0m\u001b[37m\u001b[0m \u001b[1m7s\u001b[0m 144ms/step - loss: 0.0033 - mae: 0.0188 - val_loss: 0.0011 - val_mae: 0.0137\n",
      "Epoch 47/200\n",
      "\u001b[1m50/50\u001b[0m \u001b[32m━━━━━━━━━━━━━━━━━━━━\u001b[0m\u001b[37m\u001b[0m \u001b[1m7s\u001b[0m 144ms/step - loss: 0.0034 - mae: 0.0183 - val_loss: 0.0011 - val_mae: 0.0137\n",
      "Epoch 48/200\n",
      "\u001b[1m50/50\u001b[0m \u001b[32m━━━━━━━━━━━━━━━━━━━━\u001b[0m\u001b[37m\u001b[0m \u001b[1m7s\u001b[0m 141ms/step - loss: 0.0032 - mae: 0.0183 - val_loss: 0.0011 - val_mae: 0.0136\n",
      "Epoch 49/200\n",
      "\u001b[1m50/50\u001b[0m \u001b[32m━━━━━━━━━━━━━━━━━━━━\u001b[0m\u001b[37m\u001b[0m \u001b[1m7s\u001b[0m 145ms/step - loss: 0.0033 - mae: 0.0187 - val_loss: 0.0011 - val_mae: 0.0136\n",
      "Epoch 50/200\n",
      "\u001b[1m50/50\u001b[0m \u001b[32m━━━━━━━━━━━━━━━━━━━━\u001b[0m\u001b[37m\u001b[0m \u001b[1m7s\u001b[0m 142ms/step - loss: 0.0032 - mae: 0.0181 - val_loss: 0.0011 - val_mae: 0.0135\n",
      "Epoch 51/200\n",
      "\u001b[1m50/50\u001b[0m \u001b[32m━━━━━━━━━━━━━━━━━━━━\u001b[0m\u001b[37m\u001b[0m \u001b[1m7s\u001b[0m 144ms/step - loss: 0.0032 - mae: 0.0182 - val_loss: 0.0011 - val_mae: 0.0135\n",
      "Epoch 52/200\n",
      "\u001b[1m50/50\u001b[0m \u001b[32m━━━━━━━━━━━━━━━━━━━━\u001b[0m\u001b[37m\u001b[0m \u001b[1m7s\u001b[0m 140ms/step - loss: 0.0028 - mae: 0.0173 - val_loss: 0.0011 - val_mae: 0.0135\n",
      "Epoch 53/200\n",
      "\u001b[1m50/50\u001b[0m \u001b[32m━━━━━━━━━━━━━━━━━━━━\u001b[0m\u001b[37m\u001b[0m \u001b[1m7s\u001b[0m 143ms/step - loss: 0.0038 - mae: 0.0186 - val_loss: 0.0011 - val_mae: 0.0134\n",
      "Epoch 54/200\n",
      "\u001b[1m50/50\u001b[0m \u001b[32m━━━━━━━━━━━━━━━━━━━━\u001b[0m\u001b[37m\u001b[0m \u001b[1m7s\u001b[0m 149ms/step - loss: 0.0034 - mae: 0.0179 - val_loss: 0.0011 - val_mae: 0.0134\n",
      "Epoch 55/200\n",
      "\u001b[1m50/50\u001b[0m \u001b[32m━━━━━━━━━━━━━━━━━━━━\u001b[0m\u001b[37m\u001b[0m \u001b[1m7s\u001b[0m 147ms/step - loss: 0.0034 - mae: 0.0179 - val_loss: 0.0011 - val_mae: 0.0133\n",
      "Epoch 56/200\n",
      "\u001b[1m50/50\u001b[0m \u001b[32m━━━━━━━━━━━━━━━━━━━━\u001b[0m\u001b[37m\u001b[0m \u001b[1m7s\u001b[0m 147ms/step - loss: 0.0037 - mae: 0.0183 - val_loss: 0.0011 - val_mae: 0.0133\n",
      "Epoch 57/200\n",
      "\u001b[1m50/50\u001b[0m \u001b[32m━━━━━━━━━━━━━━━━━━━━\u001b[0m\u001b[37m\u001b[0m \u001b[1m7s\u001b[0m 148ms/step - loss: 0.0034 - mae: 0.0184 - val_loss: 0.0011 - val_mae: 0.0133\n",
      "Epoch 58/200\n",
      "\u001b[1m50/50\u001b[0m \u001b[32m━━━━━━━━━━━━━━━━━━━━\u001b[0m\u001b[37m\u001b[0m \u001b[1m7s\u001b[0m 137ms/step - loss: 0.0035 - mae: 0.0182 - val_loss: 0.0011 - val_mae: 0.0132\n",
      "Epoch 59/200\n",
      "\u001b[1m50/50\u001b[0m \u001b[32m━━━━━━━━━━━━━━━━━━━━\u001b[0m\u001b[37m\u001b[0m \u001b[1m7s\u001b[0m 139ms/step - loss: 0.0039 - mae: 0.0191 - val_loss: 0.0011 - val_mae: 0.0132\n",
      "Epoch 60/200\n",
      "\u001b[1m50/50\u001b[0m \u001b[32m━━━━━━━━━━━━━━━━━━━━\u001b[0m\u001b[37m\u001b[0m \u001b[1m7s\u001b[0m 143ms/step - loss: 0.0038 - mae: 0.0186 - val_loss: 0.0011 - val_mae: 0.0131\n",
      "Epoch 61/200\n",
      "\u001b[1m50/50\u001b[0m \u001b[32m━━━━━━━━━━━━━━━━━━━━\u001b[0m\u001b[37m\u001b[0m \u001b[1m7s\u001b[0m 137ms/step - loss: 0.0034 - mae: 0.0181 - val_loss: 0.0011 - val_mae: 0.0131\n",
      "Epoch 62/200\n",
      "\u001b[1m50/50\u001b[0m \u001b[32m━━━━━━━━━━━━━━━━━━━━\u001b[0m\u001b[37m\u001b[0m \u001b[1m8s\u001b[0m 150ms/step - loss: 0.0032 - mae: 0.0176 - val_loss: 0.0011 - val_mae: 0.0130\n",
      "Epoch 63/200\n",
      "\u001b[1m50/50\u001b[0m \u001b[32m━━━━━━━━━━━━━━━━━━━━\u001b[0m\u001b[37m\u001b[0m \u001b[1m7s\u001b[0m 148ms/step - loss: 0.0033 - mae: 0.0177 - val_loss: 0.0011 - val_mae: 0.0130\n",
      "Epoch 64/200\n",
      "\u001b[1m50/50\u001b[0m \u001b[32m━━━━━━━━━━━━━━━━━━━━\u001b[0m\u001b[37m\u001b[0m \u001b[1m8s\u001b[0m 152ms/step - loss: 0.0036 - mae: 0.0187 - val_loss: 0.0011 - val_mae: 0.0129\n",
      "Epoch 65/200\n",
      "\u001b[1m50/50\u001b[0m \u001b[32m━━━━━━━━━━━━━━━━━━━━\u001b[0m\u001b[37m\u001b[0m \u001b[1m8s\u001b[0m 153ms/step - loss: 0.0031 - mae: 0.0170 - val_loss: 0.0011 - val_mae: 0.0129\n",
      "Epoch 66/200\n",
      "\u001b[1m50/50\u001b[0m \u001b[32m━━━━━━━━━━━━━━━━━━━━\u001b[0m\u001b[37m\u001b[0m \u001b[1m7s\u001b[0m 146ms/step - loss: 0.0035 - mae: 0.0176 - val_loss: 0.0011 - val_mae: 0.0128\n",
      "Epoch 67/200\n",
      "\u001b[1m50/50\u001b[0m \u001b[32m━━━━━━━━━━━━━━━━━━━━\u001b[0m\u001b[37m\u001b[0m \u001b[1m7s\u001b[0m 148ms/step - loss: 0.0035 - mae: 0.0181 - val_loss: 0.0011 - val_mae: 0.0128\n",
      "Epoch 68/200\n",
      "\u001b[1m50/50\u001b[0m \u001b[32m━━━━━━━━━━━━━━━━━━━━\u001b[0m\u001b[37m\u001b[0m \u001b[1m7s\u001b[0m 147ms/step - loss: 0.0037 - mae: 0.0180 - val_loss: 0.0011 - val_mae: 0.0127\n",
      "Epoch 69/200\n",
      "\u001b[1m50/50\u001b[0m \u001b[32m━━━━━━━━━━━━━━━━━━━━\u001b[0m\u001b[37m\u001b[0m \u001b[1m7s\u001b[0m 145ms/step - loss: 0.0034 - mae: 0.0177 - val_loss: 0.0011 - val_mae: 0.0127\n",
      "Epoch 70/200\n",
      "\u001b[1m50/50\u001b[0m \u001b[32m━━━━━━━━━━━━━━━━━━━━\u001b[0m\u001b[37m\u001b[0m \u001b[1m7s\u001b[0m 145ms/step - loss: 0.0036 - mae: 0.0180 - val_loss: 0.0011 - val_mae: 0.0126\n",
      "Epoch 71/200\n",
      "\u001b[1m50/50\u001b[0m \u001b[32m━━━━━━━━━━━━━━━━━━━━\u001b[0m\u001b[37m\u001b[0m \u001b[1m7s\u001b[0m 139ms/step - loss: 0.0033 - mae: 0.0172 - val_loss: 0.0011 - val_mae: 0.0126\n",
      "Epoch 72/200\n",
      "\u001b[1m50/50\u001b[0m \u001b[32m━━━━━━━━━━━━━━━━━━━━\u001b[0m\u001b[37m\u001b[0m \u001b[1m7s\u001b[0m 137ms/step - loss: 0.0037 - mae: 0.0179 - val_loss: 0.0011 - val_mae: 0.0125\n",
      "Epoch 73/200\n",
      "\u001b[1m50/50\u001b[0m \u001b[32m━━━━━━━━━━━━━━━━━━━━\u001b[0m\u001b[37m\u001b[0m \u001b[1m7s\u001b[0m 142ms/step - loss: 0.0033 - mae: 0.0177 - val_loss: 0.0011 - val_mae: 0.0125\n",
      "Epoch 74/200\n",
      "\u001b[1m50/50\u001b[0m \u001b[32m━━━━━━━━━━━━━━━━━━━━\u001b[0m\u001b[37m\u001b[0m \u001b[1m7s\u001b[0m 146ms/step - loss: 0.0034 - mae: 0.0172 - val_loss: 0.0011 - val_mae: 0.0124\n",
      "Epoch 75/200\n",
      "\u001b[1m50/50\u001b[0m \u001b[32m━━━━━━━━━━━━━━━━━━━━\u001b[0m\u001b[37m\u001b[0m \u001b[1m7s\u001b[0m 146ms/step - loss: 0.0034 - mae: 0.0169 - val_loss: 0.0011 - val_mae: 0.0124\n",
      "Epoch 76/200\n",
      "\u001b[1m50/50\u001b[0m \u001b[32m━━━━━━━━━━━━━━━━━━━━\u001b[0m\u001b[37m\u001b[0m \u001b[1m8s\u001b[0m 151ms/step - loss: 0.0027 - mae: 0.0163 - val_loss: 0.0011 - val_mae: 0.0123\n",
      "Epoch 77/200\n",
      "\u001b[1m50/50\u001b[0m \u001b[32m━━━━━━━━━━━━━━━━━━━━\u001b[0m\u001b[37m\u001b[0m \u001b[1m7s\u001b[0m 139ms/step - loss: 0.0033 - mae: 0.0169 - val_loss: 0.0011 - val_mae: 0.0123\n",
      "Epoch 78/200\n",
      "\u001b[1m50/50\u001b[0m \u001b[32m━━━━━━━━━━━━━━━━━━━━\u001b[0m\u001b[37m\u001b[0m \u001b[1m7s\u001b[0m 140ms/step - loss: 0.0035 - mae: 0.0175 - val_loss: 0.0011 - val_mae: 0.0122\n",
      "Epoch 79/200\n",
      "\u001b[1m50/50\u001b[0m \u001b[32m━━━━━━━━━━━━━━━━━━━━\u001b[0m\u001b[37m\u001b[0m \u001b[1m7s\u001b[0m 143ms/step - loss: 0.0036 - mae: 0.0172 - val_loss: 0.0011 - val_mae: 0.0122\n",
      "Epoch 80/200\n",
      "\u001b[1m50/50\u001b[0m \u001b[32m━━━━━━━━━━━━━━━━━━━━\u001b[0m\u001b[37m\u001b[0m \u001b[1m7s\u001b[0m 143ms/step - loss: 0.0032 - mae: 0.0166 - val_loss: 0.0011 - val_mae: 0.0121\n",
      "Epoch 81/200\n",
      "\u001b[1m50/50\u001b[0m \u001b[32m━━━━━━━━━━━━━━━━━━━━\u001b[0m\u001b[37m\u001b[0m \u001b[1m7s\u001b[0m 143ms/step - loss: 0.0034 - mae: 0.0166 - val_loss: 0.0010 - val_mae: 0.0120\n",
      "Epoch 82/200\n",
      "\u001b[1m50/50\u001b[0m \u001b[32m━━━━━━━━━━━━━━━━━━━━\u001b[0m\u001b[37m\u001b[0m \u001b[1m7s\u001b[0m 140ms/step - loss: 0.0036 - mae: 0.0170 - val_loss: 0.0010 - val_mae: 0.0120\n",
      "Epoch 83/200\n",
      "\u001b[1m50/50\u001b[0m \u001b[32m━━━━━━━━━━━━━━━━━━━━\u001b[0m\u001b[37m\u001b[0m \u001b[1m7s\u001b[0m 143ms/step - loss: 0.0035 - mae: 0.0173 - val_loss: 0.0010 - val_mae: 0.0119\n",
      "Epoch 84/200\n",
      "\u001b[1m50/50\u001b[0m \u001b[32m━━━━━━━━━━━━━━━━━━━━\u001b[0m\u001b[37m\u001b[0m \u001b[1m7s\u001b[0m 140ms/step - loss: 0.0035 - mae: 0.0171 - val_loss: 0.0010 - val_mae: 0.0119\n",
      "Epoch 85/200\n",
      "\u001b[1m50/50\u001b[0m \u001b[32m━━━━━━━━━━━━━━━━━━━━\u001b[0m\u001b[37m\u001b[0m \u001b[1m10s\u001b[0m 208ms/step - loss: 0.0033 - mae: 0.0168 - val_loss: 0.0010 - val_mae: 0.0118\n",
      "Epoch 86/200\n",
      "\u001b[1m50/50\u001b[0m \u001b[32m━━━━━━━━━━━━━━━━━━━━\u001b[0m\u001b[37m\u001b[0m \u001b[1m8s\u001b[0m 151ms/step - loss: 0.0036 - mae: 0.0169 - val_loss: 0.0010 - val_mae: 0.0117\n",
      "Epoch 87/200\n",
      "\u001b[1m50/50\u001b[0m \u001b[32m━━━━━━━━━━━━━━━━━━━━\u001b[0m\u001b[37m\u001b[0m \u001b[1m9s\u001b[0m 177ms/step - loss: 0.0037 - mae: 0.0171 - val_loss: 0.0010 - val_mae: 0.0117\n",
      "Epoch 88/200\n",
      "\u001b[1m50/50\u001b[0m \u001b[32m━━━━━━━━━━━━━━━━━━━━\u001b[0m\u001b[37m\u001b[0m \u001b[1m9s\u001b[0m 181ms/step - loss: 0.0028 - mae: 0.0158 - val_loss: 0.0010 - val_mae: 0.0116\n",
      "Epoch 89/200\n",
      "\u001b[1m50/50\u001b[0m \u001b[32m━━━━━━━━━━━━━━━━━━━━\u001b[0m\u001b[37m\u001b[0m \u001b[1m7s\u001b[0m 141ms/step - loss: 0.0031 - mae: 0.0159 - val_loss: 0.0010 - val_mae: 0.0116\n",
      "Epoch 90/200\n",
      "\u001b[1m50/50\u001b[0m \u001b[32m━━━━━━━━━━━━━━━━━━━━\u001b[0m\u001b[37m\u001b[0m \u001b[1m7s\u001b[0m 135ms/step - loss: 0.0031 - mae: 0.0160 - val_loss: 0.0010 - val_mae: 0.0115\n",
      "Epoch 91/200\n",
      "\u001b[1m50/50\u001b[0m \u001b[32m━━━━━━━━━━━━━━━━━━━━\u001b[0m\u001b[37m\u001b[0m \u001b[1m7s\u001b[0m 143ms/step - loss: 0.0034 - mae: 0.0162 - val_loss: 0.0010 - val_mae: 0.0114\n",
      "Epoch 92/200\n",
      "\u001b[1m50/50\u001b[0m \u001b[32m━━━━━━━━━━━━━━━━━━━━\u001b[0m\u001b[37m\u001b[0m \u001b[1m7s\u001b[0m 144ms/step - loss: 0.0032 - mae: 0.0161 - val_loss: 0.0010 - val_mae: 0.0114\n",
      "Epoch 93/200\n",
      "\u001b[1m50/50\u001b[0m \u001b[32m━━━━━━━━━━━━━━━━━━━━\u001b[0m\u001b[37m\u001b[0m \u001b[1m8s\u001b[0m 152ms/step - loss: 0.0034 - mae: 0.0163 - val_loss: 0.0010 - val_mae: 0.0113\n",
      "Epoch 94/200\n",
      "\u001b[1m50/50\u001b[0m \u001b[32m━━━━━━━━━━━━━━━━━━━━\u001b[0m\u001b[37m\u001b[0m \u001b[1m8s\u001b[0m 151ms/step - loss: 0.0035 - mae: 0.0165 - val_loss: 0.0010 - val_mae: 0.0112\n",
      "Epoch 95/200\n",
      "\u001b[1m50/50\u001b[0m \u001b[32m━━━━━━━━━━━━━━━━━━━━\u001b[0m\u001b[37m\u001b[0m \u001b[1m7s\u001b[0m 148ms/step - loss: 0.0038 - mae: 0.0167 - val_loss: 0.0010 - val_mae: 0.0112\n",
      "Epoch 96/200\n",
      "\u001b[1m50/50\u001b[0m \u001b[32m━━━━━━━━━━━━━━━━━━━━\u001b[0m\u001b[37m\u001b[0m \u001b[1m8s\u001b[0m 157ms/step - loss: 0.0033 - mae: 0.0156 - val_loss: 0.0010 - val_mae: 0.0111\n",
      "Epoch 97/200\n",
      "\u001b[1m50/50\u001b[0m \u001b[32m━━━━━━━━━━━━━━━━━━━━\u001b[0m\u001b[37m\u001b[0m \u001b[1m8s\u001b[0m 153ms/step - loss: 0.0032 - mae: 0.0154 - val_loss: 0.0010 - val_mae: 0.0111\n",
      "Epoch 98/200\n",
      "\u001b[1m50/50\u001b[0m \u001b[32m━━━━━━━━━━━━━━━━━━━━\u001b[0m\u001b[37m\u001b[0m \u001b[1m7s\u001b[0m 141ms/step - loss: 0.0034 - mae: 0.0155 - val_loss: 0.0010 - val_mae: 0.0110\n",
      "Epoch 99/200\n",
      "\u001b[1m50/50\u001b[0m \u001b[32m━━━━━━━━━━━━━━━━━━━━\u001b[0m\u001b[37m\u001b[0m \u001b[1m7s\u001b[0m 142ms/step - loss: 0.0031 - mae: 0.0152 - val_loss: 0.0010 - val_mae: 0.0109\n",
      "Epoch 100/200\n",
      "\u001b[1m50/50\u001b[0m \u001b[32m━━━━━━━━━━━━━━━━━━━━\u001b[0m\u001b[37m\u001b[0m \u001b[1m7s\u001b[0m 144ms/step - loss: 0.0033 - mae: 0.0154 - val_loss: 0.0010 - val_mae: 0.0109\n",
      "Epoch 101/200\n",
      "\u001b[1m50/50\u001b[0m \u001b[32m━━━━━━━━━━━━━━━━━━━━\u001b[0m\u001b[37m\u001b[0m \u001b[1m7s\u001b[0m 148ms/step - loss: 0.0039 - mae: 0.0165 - val_loss: 0.0010 - val_mae: 0.0108\n",
      "Epoch 102/200\n",
      "\u001b[1m50/50\u001b[0m \u001b[32m━━━━━━━━━━━━━━━━━━━━\u001b[0m\u001b[37m\u001b[0m \u001b[1m7s\u001b[0m 143ms/step - loss: 0.0032 - mae: 0.0151 - val_loss: 0.0010 - val_mae: 0.0107\n",
      "Epoch 103/200\n",
      "\u001b[1m50/50\u001b[0m \u001b[32m━━━━━━━━━━━━━━━━━━━━\u001b[0m\u001b[37m\u001b[0m \u001b[1m7s\u001b[0m 149ms/step - loss: 0.0033 - mae: 0.0156 - val_loss: 9.9768e-04 - val_mae: 0.0107\n",
      "Epoch 104/200\n",
      "\u001b[1m50/50\u001b[0m \u001b[32m━━━━━━━━━━━━━━━━━━━━\u001b[0m\u001b[37m\u001b[0m \u001b[1m8s\u001b[0m 162ms/step - loss: 0.0034 - mae: 0.0157 - val_loss: 9.9528e-04 - val_mae: 0.0106\n",
      "Epoch 105/200\n",
      "\u001b[1m50/50\u001b[0m \u001b[32m━━━━━━━━━━━━━━━━━━━━\u001b[0m\u001b[37m\u001b[0m \u001b[1m8s\u001b[0m 153ms/step - loss: 0.0033 - mae: 0.0152 - val_loss: 9.9295e-04 - val_mae: 0.0106\n",
      "Epoch 106/200\n",
      "\u001b[1m50/50\u001b[0m \u001b[32m━━━━━━━━━━━━━━━━━━━━\u001b[0m\u001b[37m\u001b[0m \u001b[1m8s\u001b[0m 153ms/step - loss: 0.0033 - mae: 0.0154 - val_loss: 9.9060e-04 - val_mae: 0.0106\n",
      "Epoch 107/200\n",
      "\u001b[1m50/50\u001b[0m \u001b[32m━━━━━━━━━━━━━━━━━━━━\u001b[0m\u001b[37m\u001b[0m \u001b[1m7s\u001b[0m 146ms/step - loss: 0.0035 - mae: 0.0158 - val_loss: 9.8826e-04 - val_mae: 0.0105\n",
      "Epoch 108/200\n",
      "\u001b[1m50/50\u001b[0m \u001b[32m━━━━━━━━━━━━━━━━━━━━\u001b[0m\u001b[37m\u001b[0m \u001b[1m7s\u001b[0m 148ms/step - loss: 0.0034 - mae: 0.0155 - val_loss: 9.8597e-04 - val_mae: 0.0105\n",
      "Epoch 109/200\n",
      "\u001b[1m50/50\u001b[0m \u001b[32m━━━━━━━━━━━━━━━━━━━━\u001b[0m\u001b[37m\u001b[0m \u001b[1m7s\u001b[0m 148ms/step - loss: 0.0033 - mae: 0.0152 - val_loss: 9.8366e-04 - val_mae: 0.0104\n",
      "Epoch 110/200\n",
      "\u001b[1m50/50\u001b[0m \u001b[32m━━━━━━━━━━━━━━━━━━━━\u001b[0m\u001b[37m\u001b[0m \u001b[1m10s\u001b[0m 140ms/step - loss: 0.0034 - mae: 0.0156 - val_loss: 9.8138e-04 - val_mae: 0.0104\n",
      "Epoch 111/200\n",
      "\u001b[1m50/50\u001b[0m \u001b[32m━━━━━━━━━━━━━━━━━━━━\u001b[0m\u001b[37m\u001b[0m \u001b[1m7s\u001b[0m 147ms/step - loss: 0.0036 - mae: 0.0159 - val_loss: 9.7911e-04 - val_mae: 0.0104\n",
      "Epoch 112/200\n",
      "\u001b[1m50/50\u001b[0m \u001b[32m━━━━━━━━━━━━━━━━━━━━\u001b[0m\u001b[37m\u001b[0m \u001b[1m8s\u001b[0m 150ms/step - loss: 0.0033 - mae: 0.0151 - val_loss: 9.7687e-04 - val_mae: 0.0103\n",
      "Epoch 113/200\n",
      "\u001b[1m50/50\u001b[0m \u001b[32m━━━━━━━━━━━━━━━━━━━━\u001b[0m\u001b[37m\u001b[0m \u001b[1m8s\u001b[0m 151ms/step - loss: 0.0033 - mae: 0.0149 - val_loss: 9.7469e-04 - val_mae: 0.0103\n",
      "Epoch 114/200\n",
      "\u001b[1m50/50\u001b[0m \u001b[32m━━━━━━━━━━━━━━━━━━━━\u001b[0m\u001b[37m\u001b[0m \u001b[1m7s\u001b[0m 144ms/step - loss: 0.0037 - mae: 0.0155 - val_loss: 9.7249e-04 - val_mae: 0.0103\n",
      "Epoch 115/200\n",
      "\u001b[1m50/50\u001b[0m \u001b[32m━━━━━━━━━━━━━━━━━━━━\u001b[0m\u001b[37m\u001b[0m \u001b[1m7s\u001b[0m 148ms/step - loss: 0.0035 - mae: 0.0153 - val_loss: 9.7036e-04 - val_mae: 0.0103\n",
      "Epoch 116/200\n",
      "\u001b[1m50/50\u001b[0m \u001b[32m━━━━━━━━━━━━━━━━━━━━\u001b[0m\u001b[37m\u001b[0m \u001b[1m11s\u001b[0m 155ms/step - loss: 0.0032 - mae: 0.0148 - val_loss: 9.6819e-04 - val_mae: 0.0102\n",
      "Epoch 117/200\n",
      "\u001b[1m50/50\u001b[0m \u001b[32m━━━━━━━━━━━━━━━━━━━━\u001b[0m\u001b[37m\u001b[0m \u001b[1m8s\u001b[0m 162ms/step - loss: 0.0030 - mae: 0.0143 - val_loss: 9.6615e-04 - val_mae: 0.0102\n",
      "Epoch 118/200\n",
      "\u001b[1m50/50\u001b[0m \u001b[32m━━━━━━━━━━━━━━━━━━━━\u001b[0m\u001b[37m\u001b[0m \u001b[1m8s\u001b[0m 160ms/step - loss: 0.0032 - mae: 0.0147 - val_loss: 9.6413e-04 - val_mae: 0.0102\n",
      "Epoch 119/200\n",
      "\u001b[1m50/50\u001b[0m \u001b[32m━━━━━━━━━━━━━━━━━━━━\u001b[0m\u001b[37m\u001b[0m \u001b[1m8s\u001b[0m 162ms/step - loss: 0.0030 - mae: 0.0145 - val_loss: 9.6209e-04 - val_mae: 0.0102\n",
      "Epoch 120/200\n",
      "\u001b[1m50/50\u001b[0m \u001b[32m━━━━━━━━━━━━━━━━━━━━\u001b[0m\u001b[37m\u001b[0m \u001b[1m8s\u001b[0m 153ms/step - loss: 0.0031 - mae: 0.0147 - val_loss: 9.6013e-04 - val_mae: 0.0101\n",
      "Epoch 121/200\n",
      "\u001b[1m50/50\u001b[0m \u001b[32m━━━━━━━━━━━━━━━━━━━━\u001b[0m\u001b[37m\u001b[0m \u001b[1m7s\u001b[0m 142ms/step - loss: 0.0033 - mae: 0.0150 - val_loss: 9.5820e-04 - val_mae: 0.0101\n",
      "Epoch 122/200\n",
      "\u001b[1m50/50\u001b[0m \u001b[32m━━━━━━━━━━━━━━━━━━━━\u001b[0m\u001b[37m\u001b[0m \u001b[1m7s\u001b[0m 148ms/step - loss: 0.0030 - mae: 0.0146 - val_loss: 9.5630e-04 - val_mae: 0.0101\n",
      "Epoch 123/200\n",
      "\u001b[1m50/50\u001b[0m \u001b[32m━━━━━━━━━━━━━━━━━━━━\u001b[0m\u001b[37m\u001b[0m \u001b[1m8s\u001b[0m 150ms/step - loss: 0.0033 - mae: 0.0152 - val_loss: 9.5453e-04 - val_mae: 0.0101\n",
      "Epoch 124/200\n",
      "\u001b[1m50/50\u001b[0m \u001b[32m━━━━━━━━━━━━━━━━━━━━\u001b[0m\u001b[37m\u001b[0m \u001b[1m7s\u001b[0m 140ms/step - loss: 0.0030 - mae: 0.0143 - val_loss: 9.5273e-04 - val_mae: 0.0101\n",
      "Epoch 125/200\n",
      "\u001b[1m50/50\u001b[0m \u001b[32m━━━━━━━━━━━━━━━━━━━━\u001b[0m\u001b[37m\u001b[0m \u001b[1m8s\u001b[0m 149ms/step - loss: 0.0031 - mae: 0.0146 - val_loss: 9.5102e-04 - val_mae: 0.0101\n",
      "Epoch 126/200\n",
      "\u001b[1m50/50\u001b[0m \u001b[32m━━━━━━━━━━━━━━━━━━━━\u001b[0m\u001b[37m\u001b[0m \u001b[1m7s\u001b[0m 147ms/step - loss: 0.0028 - mae: 0.0142 - val_loss: 9.4937e-04 - val_mae: 0.0101\n",
      "Epoch 127/200\n",
      "\u001b[1m50/50\u001b[0m \u001b[32m━━━━━━━━━━━━━━━━━━━━\u001b[0m\u001b[37m\u001b[0m \u001b[1m7s\u001b[0m 145ms/step - loss: 0.0030 - mae: 0.0145 - val_loss: 9.4775e-04 - val_mae: 0.0101\n",
      "Epoch 128/200\n",
      "\u001b[1m50/50\u001b[0m \u001b[32m━━━━━━━━━━━━━━━━━━━━\u001b[0m\u001b[37m\u001b[0m \u001b[1m7s\u001b[0m 148ms/step - loss: 0.0031 - mae: 0.0144 - val_loss: 9.4619e-04 - val_mae: 0.0101\n",
      "Epoch 129/200\n",
      "\u001b[1m50/50\u001b[0m \u001b[32m━━━━━━━━━━━━━━━━━━━━\u001b[0m\u001b[37m\u001b[0m \u001b[1m7s\u001b[0m 140ms/step - loss: 0.0031 - mae: 0.0145 - val_loss: 9.4466e-04 - val_mae: 0.0101\n",
      "Epoch 130/200\n",
      "\u001b[1m50/50\u001b[0m \u001b[32m━━━━━━━━━━━━━━━━━━━━\u001b[0m\u001b[37m\u001b[0m \u001b[1m7s\u001b[0m 142ms/step - loss: 0.0034 - mae: 0.0148 - val_loss: 9.4318e-04 - val_mae: 0.0101\n",
      "Epoch 131/200\n",
      "\u001b[1m50/50\u001b[0m \u001b[32m━━━━━━━━━━━━━━━━━━━━\u001b[0m\u001b[37m\u001b[0m \u001b[1m7s\u001b[0m 149ms/step - loss: 0.0033 - mae: 0.0147 - val_loss: 9.4180e-04 - val_mae: 0.0101\n",
      "Epoch 132/200\n",
      "\u001b[1m50/50\u001b[0m \u001b[32m━━━━━━━━━━━━━━━━━━━━\u001b[0m\u001b[37m\u001b[0m \u001b[1m7s\u001b[0m 144ms/step - loss: 0.0030 - mae: 0.0147 - val_loss: 9.4048e-04 - val_mae: 0.0102\n",
      "Epoch 133/200\n",
      "\u001b[1m50/50\u001b[0m \u001b[32m━━━━━━━━━━━━━━━━━━━━\u001b[0m\u001b[37m\u001b[0m \u001b[1m8s\u001b[0m 151ms/step - loss: 0.0035 - mae: 0.0152 - val_loss: 9.3921e-04 - val_mae: 0.0102\n",
      "Epoch 134/200\n",
      "\u001b[1m50/50\u001b[0m \u001b[32m━━━━━━━━━━━━━━━━━━━━\u001b[0m\u001b[37m\u001b[0m \u001b[1m7s\u001b[0m 137ms/step - loss: 0.0031 - mae: 0.0145 - val_loss: 9.3805e-04 - val_mae: 0.0102\n",
      "Epoch 135/200\n",
      "\u001b[1m50/50\u001b[0m \u001b[32m━━━━━━━━━━━━━━━━━━━━\u001b[0m\u001b[37m\u001b[0m \u001b[1m7s\u001b[0m 138ms/step - loss: 0.0029 - mae: 0.0143 - val_loss: 9.3698e-04 - val_mae: 0.0102\n",
      "Epoch 136/200\n",
      "\u001b[1m50/50\u001b[0m \u001b[32m━━━━━━━━━━━━━━━━━━━━\u001b[0m\u001b[37m\u001b[0m \u001b[1m7s\u001b[0m 143ms/step - loss: 0.0030 - mae: 0.0144 - val_loss: 9.3583e-04 - val_mae: 0.0103\n",
      "Epoch 137/200\n",
      "\u001b[1m50/50\u001b[0m \u001b[32m━━━━━━━━━━━━━━━━━━━━\u001b[0m\u001b[37m\u001b[0m \u001b[1m7s\u001b[0m 144ms/step - loss: 0.0031 - mae: 0.0145 - val_loss: 9.3485e-04 - val_mae: 0.0103\n",
      "Epoch 138/200\n",
      "\u001b[1m50/50\u001b[0m \u001b[32m━━━━━━━━━━━━━━━━━━━━\u001b[0m\u001b[37m\u001b[0m \u001b[1m7s\u001b[0m 143ms/step - loss: 0.0030 - mae: 0.0146 - val_loss: 9.3391e-04 - val_mae: 0.0103\n",
      "Epoch 139/200\n",
      "\u001b[1m50/50\u001b[0m \u001b[32m━━━━━━━━━━━━━━━━━━━━\u001b[0m\u001b[37m\u001b[0m \u001b[1m7s\u001b[0m 145ms/step - loss: 0.0027 - mae: 0.0139 - val_loss: 9.3304e-04 - val_mae: 0.0104\n",
      "Epoch 140/200\n",
      "\u001b[1m50/50\u001b[0m \u001b[32m━━━━━━━━━━━━━━━━━━━━\u001b[0m\u001b[37m\u001b[0m \u001b[1m7s\u001b[0m 149ms/step - loss: 0.0036 - mae: 0.0154 - val_loss: 9.3218e-04 - val_mae: 0.0104\n",
      "Epoch 141/200\n",
      "\u001b[1m50/50\u001b[0m \u001b[32m━━━━━━━━━━━━━━━━━━━━\u001b[0m\u001b[37m\u001b[0m \u001b[1m7s\u001b[0m 147ms/step - loss: 0.0033 - mae: 0.0149 - val_loss: 9.3145e-04 - val_mae: 0.0105\n",
      "Epoch 142/200\n",
      "\u001b[1m50/50\u001b[0m \u001b[32m━━━━━━━━━━━━━━━━━━━━\u001b[0m\u001b[37m\u001b[0m \u001b[1m7s\u001b[0m 144ms/step - loss: 0.0031 - mae: 0.0147 - val_loss: 9.3075e-04 - val_mae: 0.0105\n",
      "Epoch 143/200\n",
      "\u001b[1m50/50\u001b[0m \u001b[32m━━━━━━━━━━━━━━━━━━━━\u001b[0m\u001b[37m\u001b[0m \u001b[1m7s\u001b[0m 145ms/step - loss: 0.0033 - mae: 0.0151 - val_loss: 9.3012e-04 - val_mae: 0.0106\n",
      "Epoch 144/200\n",
      "\u001b[1m50/50\u001b[0m \u001b[32m━━━━━━━━━━━━━━━━━━━━\u001b[0m\u001b[37m\u001b[0m \u001b[1m8s\u001b[0m 150ms/step - loss: 0.0036 - mae: 0.0157 - val_loss: 9.2961e-04 - val_mae: 0.0107\n",
      "Epoch 145/200\n",
      "\u001b[1m50/50\u001b[0m \u001b[32m━━━━━━━━━━━━━━━━━━━━\u001b[0m\u001b[37m\u001b[0m \u001b[1m7s\u001b[0m 142ms/step - loss: 0.0029 - mae: 0.0148 - val_loss: 9.2910e-04 - val_mae: 0.0107\n",
      "Epoch 146/200\n",
      "\u001b[1m50/50\u001b[0m \u001b[32m━━━━━━━━━━━━━━━━━━━━\u001b[0m\u001b[37m\u001b[0m \u001b[1m8s\u001b[0m 150ms/step - loss: 0.0034 - mae: 0.0154 - val_loss: 9.2864e-04 - val_mae: 0.0108\n",
      "Epoch 147/200\n",
      "\u001b[1m50/50\u001b[0m \u001b[32m━━━━━━━━━━━━━━━━━━━━\u001b[0m\u001b[37m\u001b[0m \u001b[1m7s\u001b[0m 146ms/step - loss: 0.0033 - mae: 0.0151 - val_loss: 9.2832e-04 - val_mae: 0.0109\n",
      "Epoch 148/200\n",
      "\u001b[1m50/50\u001b[0m \u001b[32m━━━━━━━━━━━━━━━━━━━━\u001b[0m\u001b[37m\u001b[0m \u001b[1m7s\u001b[0m 144ms/step - loss: 0.0031 - mae: 0.0153 - val_loss: 9.2801e-04 - val_mae: 0.0110\n",
      "Epoch 149/200\n",
      "\u001b[1m50/50\u001b[0m \u001b[32m━━━━━━━━━━━━━━━━━━━━\u001b[0m\u001b[37m\u001b[0m \u001b[1m7s\u001b[0m 149ms/step - loss: 0.0031 - mae: 0.0150 - val_loss: 9.2779e-04 - val_mae: 0.0111\n",
      "Epoch 150/200\n",
      "\u001b[1m50/50\u001b[0m \u001b[32m━━━━━━━━━━━━━━━━━━━━\u001b[0m\u001b[37m\u001b[0m \u001b[1m7s\u001b[0m 141ms/step - loss: 0.0033 - mae: 0.0155 - val_loss: 9.2757e-04 - val_mae: 0.0111\n",
      "Epoch 151/200\n",
      "\u001b[1m50/50\u001b[0m \u001b[32m━━━━━━━━━━━━━━━━━━━━\u001b[0m\u001b[37m\u001b[0m \u001b[1m7s\u001b[0m 146ms/step - loss: 0.0028 - mae: 0.0148 - val_loss: 9.2744e-04 - val_mae: 0.0112\n",
      "Epoch 152/200\n",
      "\u001b[1m50/50\u001b[0m \u001b[32m━━━━━━━━━━━━━━━━━━━━\u001b[0m\u001b[37m\u001b[0m \u001b[1m7s\u001b[0m 145ms/step - loss: 0.0036 - mae: 0.0165 - val_loss: 9.2737e-04 - val_mae: 0.0113\n",
      "Epoch 153/200\n",
      "\u001b[1m50/50\u001b[0m \u001b[32m━━━━━━━━━━━━━━━━━━━━\u001b[0m\u001b[37m\u001b[0m \u001b[1m7s\u001b[0m 149ms/step - loss: 0.0030 - mae: 0.0155 - val_loss: 9.2732e-04 - val_mae: 0.0114\n",
      "Epoch 154/200\n",
      "\u001b[1m50/50\u001b[0m \u001b[32m━━━━━━━━━━━━━━━━━━━━\u001b[0m\u001b[37m\u001b[0m \u001b[1m7s\u001b[0m 142ms/step - loss: 0.0033 - mae: 0.0157 - val_loss: 9.2737e-04 - val_mae: 0.0115\n",
      "Epoch 155/200\n",
      "\u001b[1m50/50\u001b[0m \u001b[32m━━━━━━━━━━━━━━━━━━━━\u001b[0m\u001b[37m\u001b[0m \u001b[1m7s\u001b[0m 137ms/step - loss: 0.0031 - mae: 0.0157 - val_loss: 9.2740e-04 - val_mae: 0.0116\n",
      "Epoch 156/200\n",
      "\u001b[1m50/50\u001b[0m \u001b[32m━━━━━━━━━━━━━━━━━━━━\u001b[0m\u001b[37m\u001b[0m \u001b[1m7s\u001b[0m 134ms/step - loss: 0.0028 - mae: 0.0155 - val_loss: 9.2757e-04 - val_mae: 0.0117\n",
      "Epoch 157/200\n",
      "\u001b[1m50/50\u001b[0m \u001b[32m━━━━━━━━━━━━━━━━━━━━\u001b[0m\u001b[37m\u001b[0m \u001b[1m7s\u001b[0m 139ms/step - loss: 0.0033 - mae: 0.0160 - val_loss: 9.2769e-04 - val_mae: 0.0117\n",
      "Epoch 158/200\n",
      "\u001b[1m50/50\u001b[0m \u001b[32m━━━━━━━━━━━━━━━━━━━━\u001b[0m\u001b[37m\u001b[0m \u001b[1m7s\u001b[0m 149ms/step - loss: 0.0032 - mae: 0.0157 - val_loss: 9.2798e-04 - val_mae: 0.0118\n",
      "Epoch 159/200\n",
      "\u001b[1m50/50\u001b[0m \u001b[32m━━━━━━━━━━━━━━━━━━━━\u001b[0m\u001b[37m\u001b[0m \u001b[1m8s\u001b[0m 152ms/step - loss: 0.0032 - mae: 0.0164 - val_loss: 9.2818e-04 - val_mae: 0.0119\n",
      "Epoch 160/200\n",
      "\u001b[1m50/50\u001b[0m \u001b[32m━━━━━━━━━━━━━━━━━━━━\u001b[0m\u001b[37m\u001b[0m \u001b[1m7s\u001b[0m 137ms/step - loss: 0.0031 - mae: 0.0162 - val_loss: 9.2843e-04 - val_mae: 0.0120\n",
      "Epoch 161/200\n",
      "\u001b[1m50/50\u001b[0m \u001b[32m━━━━━━━━━━━━━━━━━━━━\u001b[0m\u001b[37m\u001b[0m \u001b[1m7s\u001b[0m 137ms/step - loss: 0.0035 - mae: 0.0167 - val_loss: 9.2879e-04 - val_mae: 0.0121\n",
      "Epoch 162/200\n",
      "\u001b[1m50/50\u001b[0m \u001b[32m━━━━━━━━━━━━━━━━━━━━\u001b[0m\u001b[37m\u001b[0m \u001b[1m7s\u001b[0m 136ms/step - loss: 0.0025 - mae: 0.0154 - val_loss: 9.2907e-04 - val_mae: 0.0121\n",
      "Epoch 163/200\n",
      "\u001b[1m50/50\u001b[0m \u001b[32m━━━━━━━━━━━━━━━━━━━━\u001b[0m\u001b[37m\u001b[0m \u001b[1m7s\u001b[0m 135ms/step - loss: 0.0031 - mae: 0.0162 - val_loss: 9.2951e-04 - val_mae: 0.0122\n",
      "Epoch 164/200\n",
      "\u001b[1m50/50\u001b[0m \u001b[32m━━━━━━━━━━━━━━━━━━━━\u001b[0m\u001b[37m\u001b[0m \u001b[1m7s\u001b[0m 140ms/step - loss: 0.0033 - mae: 0.0167 - val_loss: 9.2981e-04 - val_mae: 0.0123\n",
      "Epoch 165/200\n",
      "\u001b[1m50/50\u001b[0m \u001b[32m━━━━━━━━━━━━━━━━━━━━\u001b[0m\u001b[37m\u001b[0m \u001b[1m7s\u001b[0m 142ms/step - loss: 0.0034 - mae: 0.0166 - val_loss: 9.3033e-04 - val_mae: 0.0124\n",
      "Epoch 166/200\n",
      "\u001b[1m50/50\u001b[0m \u001b[32m━━━━━━━━━━━━━━━━━━━━\u001b[0m\u001b[37m\u001b[0m \u001b[1m8s\u001b[0m 154ms/step - loss: 0.0035 - mae: 0.0165 - val_loss: 9.3077e-04 - val_mae: 0.0124\n",
      "Epoch 167/200\n",
      "\u001b[1m50/50\u001b[0m \u001b[32m━━━━━━━━━━━━━━━━━━━━\u001b[0m\u001b[37m\u001b[0m \u001b[1m8s\u001b[0m 159ms/step - loss: 0.0035 - mae: 0.0171 - val_loss: 9.3130e-04 - val_mae: 0.0125\n",
      "Epoch 168/200\n",
      "\u001b[1m50/50\u001b[0m \u001b[32m━━━━━━━━━━━━━━━━━━━━\u001b[0m\u001b[37m\u001b[0m \u001b[1m7s\u001b[0m 145ms/step - loss: 0.0029 - mae: 0.0162 - val_loss: 9.3165e-04 - val_mae: 0.0126\n",
      "Epoch 169/200\n",
      "\u001b[1m50/50\u001b[0m \u001b[32m━━━━━━━━━━━━━━━━━━━━\u001b[0m\u001b[37m\u001b[0m \u001b[1m8s\u001b[0m 152ms/step - loss: 0.0030 - mae: 0.0163 - val_loss: 9.3204e-04 - val_mae: 0.0126\n",
      "Epoch 170/200\n",
      "\u001b[1m50/50\u001b[0m \u001b[32m━━━━━━━━━━━━━━━━━━━━\u001b[0m\u001b[37m\u001b[0m \u001b[1m7s\u001b[0m 147ms/step - loss: 0.0035 - mae: 0.0170 - val_loss: 9.3263e-04 - val_mae: 0.0127\n",
      "Epoch 171/200\n",
      "\u001b[1m50/50\u001b[0m \u001b[32m━━━━━━━━━━━━━━━━━━━━\u001b[0m\u001b[37m\u001b[0m \u001b[1m7s\u001b[0m 135ms/step - loss: 0.0031 - mae: 0.0166 - val_loss: 9.3316e-04 - val_mae: 0.0128\n",
      "Epoch 172/200\n",
      "\u001b[1m50/50\u001b[0m \u001b[32m━━━━━━━━━━━━━━━━━━━━\u001b[0m\u001b[37m\u001b[0m \u001b[1m7s\u001b[0m 135ms/step - loss: 0.0027 - mae: 0.0162 - val_loss: 9.3344e-04 - val_mae: 0.0128\n",
      "Epoch 173/200\n",
      "\u001b[1m50/50\u001b[0m \u001b[32m━━━━━━━━━━━━━━━━━━━━\u001b[0m\u001b[37m\u001b[0m \u001b[1m7s\u001b[0m 140ms/step - loss: 0.0032 - mae: 0.0169 - val_loss: 9.3415e-04 - val_mae: 0.0129\n",
      "Epoch 174/200\n",
      "\u001b[1m50/50\u001b[0m \u001b[32m━━━━━━━━━━━━━━━━━━━━\u001b[0m\u001b[37m\u001b[0m \u001b[1m7s\u001b[0m 138ms/step - loss: 0.0029 - mae: 0.0166 - val_loss: 9.3465e-04 - val_mae: 0.0129\n",
      "Epoch 175/200\n",
      "\u001b[1m50/50\u001b[0m \u001b[32m━━━━━━━━━━━━━━━━━━━━\u001b[0m\u001b[37m\u001b[0m \u001b[1m7s\u001b[0m 149ms/step - loss: 0.0030 - mae: 0.0169 - val_loss: 9.3518e-04 - val_mae: 0.0130\n",
      "Epoch 176/200\n",
      "\u001b[1m50/50\u001b[0m \u001b[32m━━━━━━━━━━━━━━━━━━━━\u001b[0m\u001b[37m\u001b[0m \u001b[1m7s\u001b[0m 148ms/step - loss: 0.0028 - mae: 0.0165 - val_loss: 9.3571e-04 - val_mae: 0.0131\n",
      "Epoch 177/200\n",
      "\u001b[1m50/50\u001b[0m \u001b[32m━━━━━━━━━━━━━━━━━━━━\u001b[0m\u001b[37m\u001b[0m \u001b[1m7s\u001b[0m 144ms/step - loss: 0.0031 - mae: 0.0173 - val_loss: 9.3613e-04 - val_mae: 0.0131\n",
      "Epoch 178/200\n",
      "\u001b[1m50/50\u001b[0m \u001b[32m━━━━━━━━━━━━━━━━━━━━\u001b[0m\u001b[37m\u001b[0m \u001b[1m10s\u001b[0m 200ms/step - loss: 0.0035 - mae: 0.0174 - val_loss: 9.3665e-04 - val_mae: 0.0132\n",
      "Epoch 179/200\n",
      "\u001b[1m50/50\u001b[0m \u001b[32m━━━━━━━━━━━━━━━━━━━━\u001b[0m\u001b[37m\u001b[0m \u001b[1m11s\u001b[0m 221ms/step - loss: 0.0029 - mae: 0.0169 - val_loss: 9.3695e-04 - val_mae: 0.0132\n",
      "Epoch 180/200\n",
      "\u001b[1m50/50\u001b[0m \u001b[32m━━━━━━━━━━━━━━━━━━━━\u001b[0m\u001b[37m\u001b[0m \u001b[1m7s\u001b[0m 142ms/step - loss: 0.0034 - mae: 0.0173 - val_loss: 9.3752e-04 - val_mae: 0.0132\n",
      "Epoch 181/200\n",
      "\u001b[1m50/50\u001b[0m \u001b[32m━━━━━━━━━━━━━━━━━━━━\u001b[0m\u001b[37m\u001b[0m \u001b[1m7s\u001b[0m 145ms/step - loss: 0.0028 - mae: 0.0168 - val_loss: 9.3791e-04 - val_mae: 0.0133\n",
      "Epoch 182/200\n",
      "\u001b[1m50/50\u001b[0m \u001b[32m━━━━━━━━━━━━━━━━━━━━\u001b[0m\u001b[37m\u001b[0m \u001b[1m7s\u001b[0m 143ms/step - loss: 0.0032 - mae: 0.0173 - val_loss: 9.3836e-04 - val_mae: 0.0133\n",
      "Epoch 183/200\n",
      "\u001b[1m50/50\u001b[0m \u001b[32m━━━━━━━━━━━━━━━━━━━━\u001b[0m\u001b[37m\u001b[0m \u001b[1m7s\u001b[0m 145ms/step - loss: 0.0032 - mae: 0.0172 - val_loss: 9.3866e-04 - val_mae: 0.0134\n"
     ]
    }
   ],
   "source": [
    "history = model.fit(\n",
    "    X_train_seq, y_train_seq,\n",
    "    epochs=200,\n",
    "    batch_size=32,\n",
    "    validation_data=(X_val_seq, y_val_seq),\n",
    "    callbacks=[early_stopping],\n",
    "    verbose=1\n",
    ")"
   ]
  },
  {
   "cell_type": "markdown",
   "metadata": {},
   "source": [
    "### 4. Evaluate on test set"
   ]
  },
  {
   "cell_type": "code",
   "execution_count": 31,
   "metadata": {},
   "outputs": [
    {
     "name": "stdout",
     "output_type": "stream",
     "text": [
      "\n",
      "Test Loss: 0.0001\n",
      "Test MAE: 0.0083\n"
     ]
    }
   ],
   "source": [
    "test_loss, test_mae = model.evaluate(X_test_seq, y_test_seq, verbose=0)\n",
    "print(f'\\nTest Loss: {test_loss:.4f}')\n",
    "print(f'Test MAE: {test_mae:.4f}')"
   ]
  },
  {
   "cell_type": "markdown",
   "metadata": {},
   "source": [
    "## Prediction"
   ]
  },
  {
   "cell_type": "code",
   "execution_count": 32,
   "metadata": {},
   "outputs": [
    {
     "name": "stdout",
     "output_type": "stream",
     "text": [
      "\u001b[1m50/50\u001b[0m \u001b[32m━━━━━━━━━━━━━━━━━━━━\u001b[0m\u001b[37m\u001b[0m \u001b[1m4s\u001b[0m 67ms/step\n",
      "\u001b[1m10/10\u001b[0m \u001b[32m━━━━━━━━━━━━━━━━━━━━\u001b[0m\u001b[37m\u001b[0m \u001b[1m1s\u001b[0m 56ms/step\n",
      "\u001b[1m10/10\u001b[0m \u001b[32m━━━━━━━━━━━━━━━━━━━━\u001b[0m\u001b[37m\u001b[0m \u001b[1m1s\u001b[0m 53ms/step\n"
     ]
    }
   ],
   "source": [
    "train_predictions = model.predict(X_train_seq)  # Predictions for training set\n",
    "val_predictions = model.predict(X_val_seq)      # Predictions for validation set\n",
    "test_predictions = model.predict(X_test_seq)    # Predictions for test set"
   ]
  },
  {
   "cell_type": "markdown",
   "metadata": {},
   "source": [
    "### 2. Inverse Transform"
   ]
  },
  {
   "cell_type": "markdown",
   "metadata": {},
   "source": [
    "Inverse transform is the process of returning data that has been normalized to its original scale."
   ]
  },
  {
   "cell_type": "code",
   "execution_count": 33,
   "metadata": {},
   "outputs": [],
   "source": [
    "# Inverse transform untuk mendapatkan nilai asli (sebelum scaling)\n",
    "def inverse_transform_predictions(predictions):\n",
    "   # Reshape predictions ke 2D array\n",
    "   predictions_reshaped = predictions.reshape(-1, 1)\n",
    "   # Inverse transform\n",
    "   return scaler.inverse_transform(predictions_reshaped).reshape(predictions.shape)"
   ]
  },
  {
   "cell_type": "code",
   "execution_count": 34,
   "metadata": {},
   "outputs": [],
   "source": [
    "# Inverse transform target dan predictions\n",
    "# y_train_orig = scaler.inverse_transform(y_train_seq.reshape(-1, 1)).reshape(y_train_seq.shape)\n",
    "# y_val_orig = scaler.inverse_transform(y_val_seq.reshape(-1, 1)).reshape(y_val_seq.shape)\n",
    "y_test_orig = scaler.inverse_transform(y_test_seq.reshape(-1, 1)).reshape(y_test_seq.shape)\n",
    "\n",
    "# train_pred_orig = inverse_transform_predictions(train_predictions)\n",
    "# val_pred_orig = inverse_transform_predictions(val_predictions)\n",
    "test_pred_orig = inverse_transform_predictions(test_predictions)"
   ]
  },
  {
   "cell_type": "markdown",
   "metadata": {},
   "source": [
    "### 3. Visualization"
   ]
  },
  {
   "cell_type": "code",
   "execution_count": 35,
   "metadata": {},
   "outputs": [
    {
     "data": {
      "image/png": "[encoded data removed]",
      "text/plain": [
       "<Figure size 1200x400 with 2 Axes>"
      ]
     },
     "metadata": {},
     "output_type": "display_data"
    }
   ],
   "source": [
    "# Training visualization\n",
    "def plot_training_history(history):\n",
    "   plt.figure(figsize=(12, 4))\n",
    "   \n",
    "   # Plot training & validation loss\n",
    "   plt.subplot(1, 2, 1)\n",
    "   plt.plot(history.history['loss'], label='Training Loss')\n",
    "   plt.plot(history.history['val_loss'], label='Validation Loss')\n",
    "   plt.title('Model Loss')\n",
    "   plt.xlabel('Epoch')\n",
    "   plt.ylabel('Loss')\n",
    "   plt.legend()\n",
    "   \n",
    "   # Plot training & validation MAE\n",
    "   plt.subplot(1, 2, 2)\n",
    "   plt.plot(history.history['mae'], label='Training MAE')\n",
    "   plt.plot(history.history['val_mae'], label='Validation MAE')\n",
    "   plt.title('Model MAE')\n",
    "   plt.xlabel('Epoch')\n",
    "   plt.ylabel('MAE')\n",
    "   plt.legend()\n",
    "   \n",
    "   plt.tight_layout()\n",
    "   plt.show()\n",
    "\n",
    "# Print\n",
    "plot_training_history(history)"
   ]
  },
  {
   "cell_type": "code",
   "execution_count": 36,
   "metadata": {},
   "outputs": [
    {
     "data": {
      "image/png": "[encoded data removed]",
      "text/plain": [
       "<Figure size 1500x600 with 2 Axes>"
      ]
     },
     "metadata": {},
     "output_type": "display_data"
    }
   ],
   "source": [
    "# Prediction vs Actual visualization\n",
    "def plot_predictions(y_true, y_pred, title):\n",
    "   plt.figure(figsize=(15, 6))\n",
    "   \n",
    "   # First day prediction (day 16)\n",
    "   plt.subplot(1, 2, 1)\n",
    "   plt.plot(y_true[:, 0], label='Actual')\n",
    "   plt.plot(y_pred[:, 0], label='Predicted')\n",
    "   plt.title(f'{title} - Day 16 Prediction')\n",
    "   plt.xlabel('Sample')\n",
    "   plt.ylabel('Amount')\n",
    "   plt.legend()\n",
    "   \n",
    "   # Last day prediction (day 30)\n",
    "   plt.subplot(1, 2, 2)\n",
    "   plt.plot(y_true[:, -1], label='Actual')\n",
    "   plt.plot(y_pred[:, -1], label='Predicted')\n",
    "   plt.title(f'{title} - Day 30 Prediction')\n",
    "\n",
    "   plt.xlabel('Sample')\n",
    "   plt.ylabel('Amount')\n",
    "   plt.legend()\n",
    "   \n",
    "   \n",
    "   plt.tight_layout()\n",
    "   plt.show()\n",
    "\n",
    "# Plot prediksi untuk setiap set\n",
    "# plot_predictions(y_train_orig, train_pred_orig, 'Training Set')\n",
    "# plot_predictions(y_val_orig, val_pred_orig, 'Validation Set')\n",
    "plot_predictions(y_test_orig, test_pred_orig, 'Test Set')"
   ]
  },
  {
   "cell_type": "code",
   "execution_count": 37,
   "metadata": {},
   "outputs": [
    {
     "data": {
      "image/png": "[encoded data removed]",
      "text/plain": [
       "<Figure size 1200x500 with 2 Axes>"
      ]
     },
     "metadata": {},
     "output_type": "display_data"
    }
   ],
   "source": [
    "# MAE dan RMSE for every horizon\n",
    "def calculate_metrics_by_horizon(y_true, y_pred):\n",
    "   mae_by_horizon = []\n",
    "   rmse_by_horizon = []\n",
    "   \n",
    "   for i in range(HORIZON):\n",
    "       mae = mean_absolute_error(y_true[:, i], y_pred[:, i])\n",
    "       rmse = np.sqrt(mean_squared_error(y_true[:, i], y_pred[:, i]))\n",
    "       mae_by_horizon.append(mae)\n",
    "       rmse_by_horizon.append(rmse)\n",
    "   \n",
    "   return mae_by_horizon, rmse_by_horizon\n",
    "\n",
    "# Metric for test set\n",
    "test_mae_by_horizon, test_rmse_by_horizon = calculate_metrics_by_horizon(y_test_orig, test_pred_orig)\n",
    "\n",
    "# Metric visualization\n",
    "plt.figure(figsize=(12, 5))\n",
    "\n",
    "plt.subplot(1, 2, 1)\n",
    "plt.plot(range(1, HORIZON + 1), test_mae_by_horizon)\n",
    "plt.title('MAE by Forecast Horizon')\n",
    "plt.xlabel('Forecast Day')\n",
    "plt.ylabel('MAE')\n",
    "\n",
    "plt.subplot(1, 2, 2)\n",
    "plt.plot(range(1, HORIZON + 1), test_rmse_by_horizon)\n",
    "plt.title('RMSE by Forecast Horizon')\n",
    "plt.xlabel('Forecast Day')\n",
    "plt.ylabel('RMSE')\n",
    "\n",
    "plt.tight_layout()\n",
    "plt.show()"
   ]
  },
  {
   "cell_type": "code",
   "execution_count": 38,
   "metadata": {},
   "outputs": [
    {
     "name": "stdout",
     "output_type": "stream",
     "text": [
      "\n",
      "Evaluatiin Metric Test Set:\n",
      "Average MAE across all horizons: 83209.06\n",
      "Average RMSE across all horizons: 113507.77\n",
      "\n",
      "MAE for Day 16 prediction: 83571.89\n",
      "MAE for Day 30 prediction: 84182.34\n"
     ]
    }
   ],
   "source": [
    "print(\"\\nEvaluatiin Metric Test Set:\")\n",
    "print(f\"Average MAE across all horizons: {np.mean(test_mae_by_horizon):.2f}\")\n",
    "print(f\"Average RMSE across all horizons: {np.mean(test_rmse_by_horizon):.2f}\")\n",
    "print(f\"\\nMAE for Day 16 prediction: {test_mae_by_horizon[0]:.2f}\")\n",
    "print(f\"MAE for Day 30 prediction: {test_mae_by_horizon[-1]:.2f}\")"
   ]
  },
  {
   "cell_type": "code",
   "execution_count": 52,
   "metadata": {},
   "outputs": [
    {
     "data": {
      "text/plain": [
       "(2302, 133)"
      ]
     },
     "execution_count": 52,
     "metadata": {},
     "output_type": "execute_result"
    }
   ],
   "source": [
    "df.shape"
   ]
  },
  {
   "cell_type": "markdown",
   "metadata": {},
   "source": [
    "## Save Model"
   ]
  },
  {
   "cell_type": "markdown",
   "metadata": {},
   "source": [
    "### 1. Architechture + Weights"
   ]
  },
  {
   "cell_type": "code",
   "execution_count": 39,
   "metadata": {},
   "outputs": [
    {
     "name": "stderr",
     "output_type": "stream",
     "text": [
      "WARNING:absl:You are saving your model as an HDF5 file via `model.save()` or `keras.saving.save_model(model)`. This file format is considered legacy. We recommend using instead the native Keras format, e.g. `model.save('my_model.keras')` or `keras.saving.save_model(model, 'my_model.keras')`. \n"
     ]
    }
   ],
   "source": [
    "# .h5\n",
    "model.save('expense_forecast_model.h5')\n",
    "\n",
    "# .json\n",
    "model_json = model.to_json()\n",
    "with open('model_architecture.json', 'w') as json_file:\n",
    "    json_file.write(model_json)\n",
    "\n",
    "# .weights.h5\n",
    "model.save_weights('model.weights.h5')"
   ]
  },
  {
   "cell_type": "markdown",
   "metadata": {},
   "source": [
    "### 2. Parameters"
   ]
  },
  {
   "cell_type": "code",
   "execution_count": 40,
   "metadata": {},
   "outputs": [
    {
     "name": "stdout",
     "output_type": "stream",
     "text": [
      "Model and parameters have been saved!\n"
     ]
    }
   ],
   "source": [
    "model_params = {\n",
    "    'window_size': WINDOW_SIZE,\n",
    "    'horizon': HORIZON,\n",
    "    'input_shape': input_shape[1],\n",
    "    'feature_columns': list(X_train.columns)\n",
    "}\n",
    "\n",
    "with open('model_params.json', 'w') as f:\n",
    "    json.dump(model_params, f)\n",
    "\n",
    "print(\"Model and parameters have been saved!\")"
   ]
  },
  {
   "cell_type": "markdown",
   "metadata": {},
   "source": [
    "## Example Prediction"
   ]
  },
  {
   "cell_type": "markdown",
   "metadata": {},
   "source": [
    "### 1. Load function model"
   ]
  },
  {
   "cell_type": "code",
   "execution_count": 41,
   "metadata": {},
   "outputs": [],
   "source": [
    "def load_forecasting_model():\n",
    "    # Load model\n",
    "    loaded_model = tf.keras.models.load_model('expense_forecast_model.h5')\n",
    "    \n",
    "    # Load parameter\n",
    "    with open('model_params.json', 'r') as f:\n",
    "        params = json.load(f)\n",
    "    \n",
    "    # Load scaler\n",
    "    loaded_scaler = joblib.load('scaler.pkl')\n",
    "\n",
    "    \n",
    "    return loaded_model, params, loaded_scaler\n"
   ]
  },
  {
   "cell_type": "markdown",
   "metadata": {},
   "source": [
    "### 2. Make prediction function"
   ]
  },
  {
   "cell_type": "markdown",
   "metadata": {},
   "source": [
    "new_data: same format as training data"
   ]
  },
  {
   "cell_type": "code",
   "execution_count": 42,
   "metadata": {},
   "outputs": [],
   "source": [
    "def make_prediction(model, scaler, new_data, params):\n",
    "\n",
    "    # Preprocessing new data\n",
    "    sequences = create_sequences(new_data, \n",
    "                               window_size=params['window_size'],\n",
    "                               horizon=params['horizon'])\n",
    "    \n",
    "    # make predict\n",
    "    predictions = model.predict(sequences)\n",
    "    \n",
    "    # Inverse transform predictions\n",
    "    predictions_orig = scaler.inverse_transform(predictions.reshape(-1, 1))\n",
    "    \n",
    "    return predictions_orig.reshape(predictions.shape)"
   ]
  },
  {
   "cell_type": "markdown",
   "metadata": {},
   "source": [
    "**How to use Model**\n",
    "1. Load model\n",
    "loaded_model, params, loaded_scaler = load_forecasting_model()\n",
    "\n",
    "2. Prepare new data (same columns as training data)\n",
    "new_data = prepare_new_data()  # Fungsi untuk memproses data baru\n",
    "\n",
    "3. Predict\n",
    "predictions = make_prediction(loaded_model, loaded_scaler, new_data, params)"
   ]
  },
  {
   "cell_type": "markdown",
   "metadata": {},
   "source": [
    "### 3. Preprocessing new data function"
   ]
  },
  {
   "cell_type": "markdown",
   "metadata": {},
   "source": [
    "input_data: same format as training data"
   ]
  },
  {
   "cell_type": "code",
   "execution_count": 43,
   "metadata": {},
   "outputs": [],
   "source": [
    "from datetime import timedelta\n",
    "\n",
    "def prepare_new_data(input_data):\n",
    "    \n",
    "    required_columns = ['Date', 'Mode', 'Category', 'Subcategory', 'Amount', 'Note', 'Currency']\n",
    "    missing_cols = [col for col in required_columns if col not in input_data.columns]\n",
    "    if missing_cols:\n",
    "        raise ValueError(f\"Input data is missing the following columns: {missing_cols}\")\n",
    "\n",
    "    # Convert datetime\n",
    "    input_data['Date'] = pd.to_datetime(input_data['Date'])\n",
    "    \n",
    "    # Aggregate data\n",
    "    input_data['year'] = input_data['Date'].dt.year\n",
    "    input_data['month'] = input_data['Date'].dt.month\n",
    "    input_data['day'] = input_data['Date'].dt.day\n",
    "    input_data['dayofweek'] = input_data['Date'].dt.dayofweek\n",
    "    \n",
    "    # Drop 'Note','Currency', and 'Date'\n",
    "    input_data = input_data.drop(columns=['Note', 'Currency', 'Date'])\n",
    "    \n",
    "    # One-hot encoding for categorical column ('Mode', 'Category', 'Subcategory'), use encoder same as training\n",
    "    encoded_mode = encoder_mode.transform(input_data[['Mode']])\n",
    "    encoded_category = encoder_category.transform(input_data[['Category']])\n",
    "    encoded_subcategory = encoder_subcategory.transform(input_data[['Subcategory']])\n",
    "    \n",
    "    # Concat all encoded results\n",
    "    encoded_df = pd.DataFrame(\n",
    "        np.hstack([encoded_mode, encoded_category, encoded_subcategory]),\n",
    "        columns=np.concatenate([mode_columns, category_columns, subcategory_columns])\n",
    "    )\n",
    "    \n",
    "    # Concat encoded results with original df\n",
    "    processed_data = pd.concat([\n",
    "        input_data.drop(['Mode', 'Category', 'Subcategory'], axis=1),\n",
    "        encoded_df\n",
    "    ], axis=1)\n",
    "    \n",
    "    return processed_data"
   ]
  },
  {
   "cell_type": "markdown",
   "metadata": {},
   "source": [
    "### 4. Predict function"
   ]
  },
  {
   "cell_type": "markdown",
   "metadata": {},
   "source": [
    "input_data: df with first 15 days"
   ]
  },
  {
   "cell_type": "code",
   "execution_count": 44,
   "metadata": {},
   "outputs": [],
   "source": [
    "def predict_future_expenses(input_data, days_to_predict=15):\n",
    "\n",
    "    # Load model\n",
    "    loaded_model, params, loaded_scaler = load_forecasting_model()\n",
    "    \n",
    "    # Validasi input data\n",
    "    if len(input_data) < params['window_size']:\n",
    "        raise ValueError(f\"Input data harus minimal {params['window_size']} hari\")\n",
    "    \n",
    "    # Preprocess new data\n",
    "    processed_data = prepare_new_data(input_data)\n",
    "    \n",
    "    # Normalization Amount\n",
    "    processed_data['Amount'] = loaded_scaler.transform(processed_data[['Amount']])\n",
    "\n",
    "    # Create sequences for prediction\n",
    "    X_pred = processed_data.drop(columns=['Amount'])\n",
    "    X_pred_seq = np.array([X_pred.values[-WINDOW_SIZE:]])\n",
    "    \n",
    "    # Predict \n",
    "    predictions = loaded_model.predict(X_pred_seq)\n",
    "    \n",
    "    # Inverse transform \n",
    "    predictions_orig = loaded_scaler.inverse_transform(predictions.reshape(-1, 1))\n",
    "    \n",
    "    # Create future dates\n",
    "    last_date = input_data['Date'].iloc[-1]\n",
    "    future_dates = [last_date + timedelta(days=i+1) for i in range(days_to_predict)]\n",
    "    \n",
    "    predictions_df = pd.DataFrame({\n",
    "        'Date': future_dates,\n",
    "        'Predicted_Amount': predictions_orig.flatten()\n",
    "    })\n",
    "    \n",
    "    return predictions_df"
   ]
  },
  {
   "cell_type": "markdown",
   "metadata": {},
   "source": [
    "### 5. Simulation"
   ]
  },
  {
   "cell_type": "code",
   "execution_count": 45,
   "metadata": {},
   "outputs": [],
   "source": [
    "# Create dummy data first 15 days\n",
    "data_15_days = pd.DataFrame({\n",
    "    'Date': pd.date_range(start='2024-03-01', periods=15),\n",
    "    'Mode': ['Cash'] * 15,  \n",
    "    'Category': ['Food'] * 15, \n",
    "    'Subcategory': ['Lunch'] * 15,  \n",
    "    'Note': ['Afuy'] * 15,\n",
    "    'Amount': np.round(np.random.uniform(10000, 200000, 15), -3),   # Random amount 10k - 200k\n",
    "    'Expense': [1] * 15,\n",
    "    'Currency': ['IDR'] * 15\n",
    "})"
   ]
  },
  {
   "cell_type": "code",
   "execution_count": 46,
   "metadata": {},
   "outputs": [
    {
     "name": "stdout",
     "output_type": "stream",
     "text": [
      "First 15 days:\n",
      "         Date    Amount\n",
      "0  2024-03-01  134000.0\n",
      "1  2024-03-02   60000.0\n",
      "2  2024-03-03   47000.0\n",
      "3  2024-03-04   19000.0\n",
      "4  2024-03-05  175000.0\n",
      "5  2024-03-06  147000.0\n",
      "6  2024-03-07   75000.0\n",
      "7  2024-03-08   22000.0\n",
      "8  2024-03-09  187000.0\n",
      "9  2024-03-10   37000.0\n",
      "10 2024-03-11  170000.0\n",
      "11 2024-03-12  129000.0\n",
      "12 2024-03-13  101000.0\n",
      "13 2024-03-14   24000.0\n",
      "14 2024-03-15  105000.0\n"
     ]
    }
   ],
   "source": [
    "# Print\n",
    "print(\"First 15 days:\")\n",
    "print(data_15_days[['Date', 'Amount']])"
   ]
  },
  {
   "cell_type": "code",
   "execution_count": 47,
   "metadata": {},
   "outputs": [
    {
     "name": "stderr",
     "output_type": "stream",
     "text": [
      "WARNING:absl:Compiled the loaded model, but the compiled metrics have yet to be built. `model.compile_metrics` will be empty until you train or evaluate the model.\n"
     ]
    },
    {
     "name": "stdout",
     "output_type": "stream",
     "text": [
      "\u001b[1m1/1\u001b[0m \u001b[32m━━━━━━━━━━━━━━━━━━━━\u001b[0m\u001b[37m\u001b[0m \u001b[1m1s\u001b[0m 945ms/step\n"
     ]
    }
   ],
   "source": [
    "# Predict\n",
    "predictions = predict_future_expenses(data_15_days, days_to_predict=15)"
   ]
  },
  {
   "cell_type": "code",
   "execution_count": 48,
   "metadata": {},
   "outputs": [],
   "source": [
    "# if prediction < 0, then cahnge it to 0\n",
    "predictions['Predicted_Amount'] = predictions['Predicted_Amount'].apply(lambda x: max(0, x))"
   ]
  },
  {
   "cell_type": "code",
   "execution_count": 49,
   "metadata": {},
   "outputs": [
    {
     "name": "stdout",
     "output_type": "stream",
     "text": [
      "\n",
      "Expense forecast for next 15 days:\n",
      "      Date  Predicted_Amount\n",
      "2024-03-16             98000\n",
      "2024-03-17            110000\n",
      "2024-03-18            152000\n",
      "2024-03-19            110000\n",
      "2024-03-20            115000\n",
      "2024-03-21            103000\n",
      "2024-03-22             71000\n",
      "2024-03-23            100000\n",
      "2024-03-24             82000\n",
      "2024-03-25            114000\n",
      "2024-03-26             58000\n",
      "2024-03-27             44000\n",
      "2024-03-28            111000\n",
      "2024-03-29             71000\n",
      "2024-03-30             99000\n"
     ]
    }
   ],
   "source": [
    "print(\"\\nExpense forecast for next 15 days:\")\n",
    "\n",
    "# predict and round it into 1000\n",
    "predictions['Predicted_Amount'] = predictions['Predicted_Amount'].apply(lambda x: round(x, -3))\n",
    "# convert to integer\n",
    "predictions['Predicted_Amount'] = predictions['Predicted_Amount'].astype(int)\n",
    "print(predictions.to_string(index=False))\n"
   ]
  },
  {
   "cell_type": "code",
   "execution_count": 50,
   "metadata": {},
   "outputs": [
    {
     "data": {
      "image/png": "[encoded data removed]",
      "text/plain": [
       "<Figure size 1200x600 with 1 Axes>"
      ]
     },
     "metadata": {},
     "output_type": "display_data"
    }
   ],
   "source": [
    "# Visualization\n",
    "plt.figure(figsize=(12, 6))\n",
    "plt.plot(predictions['Date'], predictions['Predicted_Amount'], marker='o')\n",
    "plt.title('Forecast Expense for Next 15 Days')\n",
    "plt.xlabel('Date')\n",
    "plt.ylabel('Expense Amount')\n",
    "plt.xticks(rotation=45)\n",
    "plt.grid(True)\n",
    "plt.tight_layout()\n",
    "plt.show()"
   ]
  },
  {
   "cell_type": "code",
   "execution_count": 51,
   "metadata": {},
   "outputs": [
    {
     "name": "stdout",
     "output_type": "stream",
     "text": [
      "\n",
      "Prediction Statistic:\n",
      "Average daily expense: 95866.67\n",
      "Minimum expense: 44000.00\n",
      "Maximum expense: 152000.00\n",
      "Total expense for first 15 days: 1432000.00\n",
      "Total expense for next 15 days: 1438000.00\n"
     ]
    }
   ],
   "source": [
    "# Statistic\n",
    "print(\"\\nPrediction Statistic:\")\n",
    "print(f\"Average daily expense: {predictions['Predicted_Amount'].mean():.2f}\")\n",
    "print(f\"Minimum expense: {predictions['Predicted_Amount'].min():.2f}\")\n",
    "print(f\"Maximum expense: {predictions['Predicted_Amount'].max():.2f}\")\n",
    "print(f\"Total expense for first 15 days: {data_15_days['Amount'].sum():.2f}\")\n",
    "print(f\"Total expense for next 15 days: {predictions['Predicted_Amount'].sum():.2f}\")"
   ]
  }
 ],
 "metadata": {
  "kernelspec": {
   "display_name": "Python 3",
   "language": "python",
   "name": "python3"
  },
  "language_info": {
   "codemirror_mode": {
    "name": "ipython",
    "version": 3
   },
   "file_extension": ".py",
   "mimetype": "text/x-python",
   "name": "python",
   "nbconvert_exporter": "python",
   "pygments_lexer": "ipython3",
   "version": "3.12.3"
  }
 },
 "nbformat": 4,
 "nbformat_minor": 2
}
