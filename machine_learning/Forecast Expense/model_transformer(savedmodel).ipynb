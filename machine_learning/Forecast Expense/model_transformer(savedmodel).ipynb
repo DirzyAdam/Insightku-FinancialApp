{
 "cells": [
  {
   "cell_type": "code",
   "execution_count": null,
   "metadata": {},
   "outputs": [],
   "source": [
    "import tensorflow as tf\n",
    "from tensorflow.keras.models import load_model\n",
    "\n",
    "# Load your h5 model\n",
    "model = load_model(r'machine_learning\\Forecast Expense\\expense_forecast_model.h5')  # Replace 'forecast_model.h5' with your actual h5 model file name\n",
    "\n",
    "# Define the prediction function\n",
    "@tf.function(input_signature=[tf.TensorSpec(shape=[None, 10], dtype=tf.float32)])  # Adjust input signature as needed\n",
    "def predict_fn(input_data):\n",
    "  prediction = model(input_data)\n",
    "  return {'prediction': prediction}\n",
    "\n",
    "# Create a signature for the model\n",
    "signatures = {'serving_default': predict_fn}\n",
    "\n",
    "# Save the model in SavedModel format\n",
    "tf.saved_model.save(model, 'forecast_model_saved', signatures=signatures)"
   ]
  }
 ],
 "metadata": {
  "kernelspec": {
   "display_name": "InsightkuProject",
   "language": "python",
   "name": "python3"
  },
  "language_info": {
   "codemirror_mode": {
    "name": "ipython",
    "version": 3
   },
   "file_extension": ".py",
   "mimetype": "text/x-python",
   "name": "python",
   "nbconvert_exporter": "python",
   "pygments_lexer": "ipython3",
   "version": "3.9.20"
  }
 },
 "nbformat": 4,
 "nbformat_minor": 2
}
