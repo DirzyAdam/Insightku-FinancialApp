{
 "cells": [
  {
   "cell_type": "code",
   "execution_count": null,
   "metadata": {},
   "outputs": [],
   "source": [
    "import tensorflow as tf\n",
    "import cv2\n",
    "import re\n",
    "import numpy as np\n",
    "from pytesseract import pytesseract\n",
    "from skimage.filters import threshold_local\n",
    "from pytesseract import Output\n",
    "pytesseract.tesseract_cmd = r'D:/Coding/tesseract/tesseract.exe'\n"
   ]
  },
  {
   "cell_type": "code",
   "execution_count": 32,
   "metadata": {},
   "outputs": [],
   "source": [
    "def bw_scanner(image):\n",
    "    gray = cv2.cvtColor(image, cv2.COLOR_BGR2GRAY)\n",
    "    T = threshold_local(gray, 21, offset=5, method=\"gaussian\")\n",
    "    return (gray > T).astype(\"uint8\") * 255"
   ]
  },
  {
   "cell_type": "code",
   "execution_count": 33,
   "metadata": {},
   "outputs": [],
   "source": [
    "def wrap_perspective(img, rect):\n",
    "    (tl, tr, br, bl) = rect\n",
    "    widthA = np.sqrt(((br[0] - bl[0]) ** 2) + ((br[1] - bl[1]) ** 2))\n",
    "    widthB = np.sqrt(((tr[0] - tl[0]) ** 2) + ((tr[1] - tl[1]) ** 2))\n",
    "    heightA = np.sqrt(((tr[0] - br[0]) ** 2) + ((tr[1] - br[1]) ** 2))\n",
    "    heightB = np.sqrt(((tl[0] - bl[0]) ** 2) + ((tl[1] - bl[1]) ** 2))\n",
    "    maxWidth = max(int(widthA), int(widthB))\n",
    "    maxHeight = max(int(heightA), int(heightB))\n",
    "    dst = np.array([\n",
    "        [0, 0],\n",
    "        [maxWidth - 1, 0],\n",
    "        [maxWidth - 1, maxHeight - 1],\n",
    "        [0, maxHeight - 1]\n",
    "    ], dtype=\"float32\")\n",
    "    M = cv2.getPerspectiveTransform(rect, dst)\n",
    "    return cv2.warpPerspective(img, M, (maxWidth, maxHeight))"
   ]
  },
  {
   "cell_type": "code",
   "execution_count": 34,
   "metadata": {},
   "outputs": [],
   "source": [
    "def get_boxes_in_pixels(detection_boxes, image_shape):\n",
    "    height, width, _ = image_shape\n",
    "    boxes_pixel = [(int(box[1] * width), int(box[0] * height),\n",
    "                    int(box[3] * width), int(box[2] * height))\n",
    "                   for box in detection_boxes]\n",
    "    return boxes_pixel"
   ]
  },
  {
   "cell_type": "code",
   "execution_count": null,
   "metadata": {},
   "outputs": [],
   "source": [
    "# Muat Model\n",
    "model_path = \"D:\\Coding\\VSCode\\Fitur2_ORC\\export_model\\saved_model\"\n",
    "detect_fn = tf.saved_model.load(model_path)\n",
    "\n",
    "# Proses Gambar\n",
    "image_path = \"./dataset2/train/receipt_00739_png_jpg.rf.f87a56559be6ee953e69f2660be08569.jpg\"\n",
    "image = cv2.imread(image_path)\n",
    "input_tensor = tf.convert_to_tensor(image)\n",
    "input_tensor = input_tensor[tf.newaxis, ...]\n",
    "\n",
    "# Deteksi Objek\n",
    "detections = detect_fn(input_tensor)\n",
    "num_detections = int(detections.pop('num_detections'))\n",
    "detections = {key: value[0, :num_detections].numpy() for key, value in detections.items()}\n",
    "detection_boxes = detections['detection_boxes']\n",
    "detection_scores = detections['detection_scores']\n",
    "\n",
    "# Filter Deteksi dengan Threshold\n",
    "threshold = 0.8\n",
    "boxes = detection_boxes[detection_scores >= threshold]\n",
    "\n",
    "# Konversi Bounding Box ke Piksel\n",
    "height, width, _ = image.shape\n",
    "boxes_pixel = [(int(box[1] * width), int(box[0] * height),\n",
    "                int(box[3] * width), int(box[2] * height))\n",
    "               for box in boxes]\n",
    "\n",
    "# Proses Setiap Bounding Box\n",
    "for i, (x_min, y_min, x_max, y_max) in enumerate(boxes_pixel):\n",
    "\n",
    "    rect = np.array([\n",
    "        [x_min, y_min],  \n",
    "        [x_max, y_min], \n",
    "        [x_max, y_max],  \n",
    "        [x_min, y_max]   \n",
    "    ], dtype=\"float32\")\n",
    "    \n",
    "    warped = wrap_perspective(image, rect)\n",
    "    bw_result = bw_scanner(warped)"
   ]
  },
  {
   "cell_type": "code",
   "execution_count": 37,
   "metadata": {},
   "outputs": [],
   "source": [
    "d = pytesseract.image_to_data(bw_result, output_type=Output.DICT)\n",
    "n_boxes = len(d['level'])\n",
    "boxes = cv2.cvtColor(image.copy(), cv2.COLOR_BGR2RGB)\n",
    "for i in range(n_boxes):\n",
    "    (x, y, w, h) = (d['left'][i], d['top'][i], d['width'][i], d['height'][i])    \n",
    "    boxes = cv2.rectangle(boxes, (x, y), (x + w, y + h), (0, 255, 0), 2)"
   ]
  },
  {
   "cell_type": "code",
   "execution_count": 38,
   "metadata": {},
   "outputs": [
    {
     "name": "stdout",
     "output_type": "stream",
     "text": [
      "Sprite (L) 25. 000\n",
      "Lemon Tea (L) 000\n",
      "Extra Jelly Lychee\n",
      "\n",
      "TOTAL\n",
      "\n",
      "100, 000\n",
      "40.000\n",
      "\n",
      "CASH\n",
      "GHANGED\n",
      "\n",
      "\n"
     ]
    }
   ],
   "source": [
    "extracted_text = pytesseract.image_to_string(image)\n",
    "print(extracted_text)"
   ]
  },
  {
   "cell_type": "code",
   "execution_count": 39,
   "metadata": {},
   "outputs": [],
   "source": [
    "def find_amounts(text):\n",
    "    amounts = re.findall(r'\\d+\\.\\d{2}\\b', text)\n",
    "    \n",
    "    total_patterns = [\n",
    "        r'(?:TOTAL|Total|JUMLAH|Jumlah|AMOUNT|Amount)\\s*[:]*[Rp$]*\\s*([\\d.,]+)',\n",
    "        r'(?:BAYAR|Pay|PAY)[\\s:]*[Rp$]*\\s*([\\d.,]+)',\n",
    "        r'(?:GRAND\\s*TOTAL|Grand Total)[\\s:]*[Rp$]*\\s*([\\d.,]+)',\n",
    "    ]\n",
    "\n",
    "    for pattern in total_patterns:\n",
    "        match = re.search(pattern, text, re.IGNORECASE)\n",
    "        if match:\n",
    "            raw_total = match.group(1)\n",
    "            # Bersihkan format angka (ganti koma dengan titik)\n",
    "            cleaned_total = raw_total.replace(',', '.')\n",
    "            try:\n",
    "                return float(cleaned_total)\n",
    "            except ValueError:\n",
    "                continue\n",
    "\n",
    "    # Jika pola kata kunci tidak cocok, cari angka dengan format spesifik\n",
    "    amounts = re.findall(r'\\d+\\.\\d{2}\\b', text)\n",
    "\n",
    "    # Konversi angka menjadi float dan hilangkan duplikat\n",
    "    unique_amounts = list(dict.fromkeys(float(amount) for amount in amounts))\n",
    "\n",
    "    # Jika hanya satu angka ditemukan, anggap itu sebagai total\n",
    "    if len(unique_amounts) == 1:\n",
    "        return unique_amounts[0]\n",
    "\n",
    "    # Jika tidak ditemukan angka yang cocok, kembalikan pesan default\n",
    "    return \"Tidak Ditemukan\""
   ]
  },
  {
   "cell_type": "code",
   "execution_count": 40,
   "metadata": {},
   "outputs": [
    {
     "data": {
      "text/plain": [
       "100.0"
      ]
     },
     "execution_count": 40,
     "metadata": {},
     "output_type": "execute_result"
    }
   ],
   "source": [
    "amounts = find_amounts(extracted_text)\n",
    "amounts"
   ]
  }
 ],
 "metadata": {
  "kernelspec": {
   "display_name": ".conda",
   "language": "python",
   "name": "python3"
  },
  "language_info": {
   "codemirror_mode": {
    "name": "ipython",
    "version": 3
   },
   "file_extension": ".py",
   "mimetype": "text/x-python",
   "name": "python",
   "nbconvert_exporter": "python",
   "pygments_lexer": "ipython3",
   "version": "3.9.18"
  }
 },
 "nbformat": 4,
 "nbformat_minor": 2
}
